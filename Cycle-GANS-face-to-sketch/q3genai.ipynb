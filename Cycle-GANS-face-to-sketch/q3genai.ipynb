{
 "cells": [
  {
   "cell_type": "code",
   "execution_count": 1,
   "id": "475d79e7",
   "metadata": {
    "_cell_guid": "b1076dfc-b9ad-4769-8c92-a6c4dae69d19",
    "_uuid": "8f2839f25d086af736a60e9eeb907d3b93b6e0e5",
    "execution": {
     "iopub.execute_input": "2024-10-23T05:32:40.068607Z",
     "iopub.status.busy": "2024-10-23T05:32:40.068204Z",
     "iopub.status.idle": "2024-10-23T05:32:44.745526Z",
     "shell.execute_reply": "2024-10-23T05:32:44.744499Z"
    },
    "papermill": {
     "duration": 4.684923,
     "end_time": "2024-10-23T05:32:44.748204",
     "exception": false,
     "start_time": "2024-10-23T05:32:40.063281",
     "status": "completed"
    },
    "tags": []
   },
   "outputs": [],
   "source": [
    "# 1. Imports and Hyperparameters\n",
    "import os\n",
    "import numpy as np\n",
    "import matplotlib.pyplot as plt\n",
    "from PIL import Image\n",
    "from tqdm import tqdm  # For progress bars\n",
    "\n",
    "import torch\n",
    "import torch.nn as nn\n",
    "from torch.utils.data import Dataset, DataLoader\n",
    "from torchvision.utils import save_image\n",
    "from torchvision.transforms import Compose, ToTensor, Normalize, Resize\n",
    "\n",
    "# Check if CUDA is available\n",
    "device = torch.device('cuda' if torch.cuda.is_available() else 'cpu')\n",
    "\n",
    "# Hyperparameters (Adjust based on the paper's recommendations)\n",
    "batch_size = 128\n",
    "learning_rate = 2e-4\n",
    "num_epochs = 60\n",
    "image_size = 256\n",
    "lambda_L1 = 100  # Weight for L1 loss\n",
    "lambda_perceptual = 10  # Weight for perceptual loss if used\n",
    "\n",
    "# Directories\n",
    "train_dir = '/kaggle/input/person-face-sketches/train'  # Update with your dataset path\n",
    "val_dir = '/kaggle/input/person-face-sketches/val'\n",
    "test_dir = '/kaggle/input/person-face-sketches/test'\n",
    "\n",
    "checkpoint_dir = '/kaggle/working/checkpoints'\n",
    "os.makedirs(checkpoint_dir, exist_ok=True)\n",
    "\n",
    "# Image saving directory\n",
    "image_dir = '/kaggle/working/images'\n",
    "os.makedirs(image_dir, exist_ok=True)\n",
    "\n"
   ]
  },
  {
   "cell_type": "code",
   "execution_count": 2,
   "id": "cdeebca8",
   "metadata": {
    "execution": {
     "iopub.execute_input": "2024-10-23T05:32:44.758828Z",
     "iopub.status.busy": "2024-10-23T05:32:44.758406Z",
     "iopub.status.idle": "2024-10-23T05:32:45.341623Z",
     "shell.execute_reply": "2024-10-23T05:32:45.340635Z"
    },
    "papermill": {
     "duration": 0.590989,
     "end_time": "2024-10-23T05:32:45.344114",
     "exception": false,
     "start_time": "2024-10-23T05:32:44.753125",
     "status": "completed"
    },
    "tags": []
   },
   "outputs": [],
   "source": [
    "# 2. Dataset Preparation\n",
    "class SketchToFaceDataset(Dataset):\n",
    "    \"\"\"\n",
    "    Custom Dataset for loading sketch and face image pairs.\n",
    "    \"\"\"\n",
    "    def __init__(self, sketch_dir, face_dir, transform=None):\n",
    "        self.sketch_dir = sketch_dir\n",
    "        self.face_dir = face_dir\n",
    "        self.transform = transform\n",
    "        self.image_names = os.listdir(self.sketch_dir)\n",
    "\n",
    "    def __len__(self):\n",
    "        return len(self.image_names)\n",
    "\n",
    "    def __getitem__(self, idx):\n",
    "        sketch_name = self.image_names[idx]\n",
    "        face_name = sketch_name  # Assuming same filename for sketch and face\n",
    "\n",
    "        sketch_path = os.path.join(self.sketch_dir, sketch_name)\n",
    "        face_path = os.path.join(self.face_dir, face_name)\n",
    "\n",
    "        sketch_image = Image.open(sketch_path).convert('RGB')\n",
    "        face_image = Image.open(face_path).convert('RGB')\n",
    "\n",
    "        if self.transform:\n",
    "            sketch_image = self.transform(sketch_image)\n",
    "            face_image = self.transform(face_image)\n",
    "\n",
    "        return {'sketch': sketch_image, 'face': face_image}\n",
    "\n",
    "# Define transformations\n",
    "transform = Compose([\n",
    "    Resize((image_size, image_size)),\n",
    "    ToTensor(),\n",
    "    Normalize(mean=[0.5], std=[0.5])\n",
    "])\n",
    "\n",
    "# Create datasets and dataloaders\n",
    "train_dataset = SketchToFaceDataset(\n",
    "    sketch_dir=os.path.join(train_dir, 'sketches'),\n",
    "    face_dir=os.path.join(train_dir, 'photos'),\n",
    "    transform=transform\n",
    ")\n",
    "train_loader = DataLoader(train_dataset, batch_size=batch_size, shuffle=True)\n",
    "\n",
    "val_dataset = SketchToFaceDataset(\n",
    "    sketch_dir=os.path.join(val_dir, 'sketches'),\n",
    "    face_dir=os.path.join(val_dir, 'photos'),\n",
    "    transform=transform\n",
    ")\n",
    "val_loader = DataLoader(val_dataset, batch_size=batch_size, shuffle=False)\n"
   ]
  },
  {
   "cell_type": "code",
   "execution_count": 3,
   "id": "59d95e3d",
   "metadata": {
    "execution": {
     "iopub.execute_input": "2024-10-23T05:32:45.352302Z",
     "iopub.status.busy": "2024-10-23T05:32:45.351897Z",
     "iopub.status.idle": "2024-10-23T05:32:46.105398Z",
     "shell.execute_reply": "2024-10-23T05:32:46.104580Z"
    },
    "papermill": {
     "duration": 0.760079,
     "end_time": "2024-10-23T05:32:46.107699",
     "exception": false,
     "start_time": "2024-10-23T05:32:45.347620",
     "status": "completed"
    },
    "tags": []
   },
   "outputs": [],
   "source": [
    "# 3. Model Definitions\n",
    "\n",
    "# Generator Model (U-Net)\n",
    "class UNetBlock(nn.Module):\n",
    "    \"\"\"\n",
    "    Defines a single block for the U-Net architecture.\n",
    "    \"\"\"\n",
    "    def __init__(self, in_channels, out_channels, down=True, use_dropout=False):\n",
    "        super(UNetBlock, self).__init__()\n",
    "        if down:\n",
    "            self.block = nn.Sequential(\n",
    "                nn.Conv2d(in_channels, out_channels, 4, 2, 1, bias=False),\n",
    "                nn.BatchNorm2d(out_channels),\n",
    "                nn.LeakyReLU(0.2)\n",
    "            )\n",
    "        else:\n",
    "            self.block = nn.Sequential(\n",
    "                nn.ConvTranspose2d(in_channels, out_channels, 4, 2, 1, bias=False),\n",
    "                nn.BatchNorm2d(out_channels),\n",
    "                nn.ReLU()\n",
    "            )\n",
    "            if use_dropout:\n",
    "                self.block.add_module(\"Dropout\", nn.Dropout(0.5))\n",
    "\n",
    "    def forward(self, x):\n",
    "        return self.block(x)\n",
    "\n",
    "class GeneratorUNet(nn.Module):\n",
    "    def __init__(self, in_channels=3, out_channels=3):\n",
    "        super(GeneratorUNet, self).__init__()\n",
    "        self.down1 = UNetBlock(in_channels, 64, down=True, use_dropout=False)  # (b, 64, 128, 128)\n",
    "        self.down2 = UNetBlock(64, 128, down=True, use_dropout=False)          # (b, 128, 64, 64)\n",
    "        self.down3 = UNetBlock(128, 256, down=True, use_dropout=False)         # (b, 256, 32, 32)\n",
    "        self.down4 = UNetBlock(256, 512, down=True, use_dropout=False)         # (b, 512, 16, 16)\n",
    "        self.down5 = UNetBlock(512, 512, down=True, use_dropout=False)         # (b, 512, 8, 8)\n",
    "        self.down6 = UNetBlock(512, 512, down=True, use_dropout=False)         # (b, 512, 4, 4)\n",
    "        self.down7 = UNetBlock(512, 512, down=True, use_dropout=False)         # (b, 512, 2, 2)\n",
    "        self.down8 = UNetBlock(512, 512, down=True, use_dropout=False)         # (b, 512, 1, 1)\n",
    "\n",
    "        self.up1 = UNetBlock(512, 512, down=False, use_dropout=True)           # (b, 512, 2, 2)\n",
    "        self.up2 = UNetBlock(1024, 512, down=False, use_dropout=True)          # (b, 512, 4, 4)\n",
    "        self.up3 = UNetBlock(1024, 512, down=False, use_dropout=True)          # (b, 512, 8, 8)\n",
    "        self.up4 = UNetBlock(1024, 512, down=False, use_dropout=False)         # (b, 512, 16, 16)\n",
    "        self.up5 = UNetBlock(1024, 256, down=False, use_dropout=False)         # (b, 256, 32, 32)\n",
    "        self.up6 = UNetBlock(512, 128, down=False, use_dropout=False)          # (b, 128, 64, 64)\n",
    "        self.up7 = UNetBlock(256, 64, down=False, use_dropout=False)           # (b, 64, 128, 128)\n",
    "        self.up8 = nn.Sequential(\n",
    "            nn.ConvTranspose2d(128, out_channels, 4, 2, 1),\n",
    "            nn.Tanh()\n",
    "        )                                                                      # (b, 3, 256, 256)\n",
    "\n",
    "    def forward(self, x):\n",
    "        # Downsampling\n",
    "        d1 = self.down1(x)\n",
    "        d2 = self.down2(d1)\n",
    "        d3 = self.down3(d2)\n",
    "        d4 = self.down4(d3)\n",
    "        d5 = self.down5(d4)\n",
    "        d6 = self.down6(d5)\n",
    "        d7 = self.down7(d6)\n",
    "        d8 = self.down8(d7)\n",
    "\n",
    "        # Upsampling with skip connections\n",
    "        u1 = self.up1(d8)\n",
    "        u1 = torch.cat([u1, d7], dim=1)\n",
    "        u2 = self.up2(u1)\n",
    "        u2 = torch.cat([u2, d6], dim=1)\n",
    "        u3 = self.up3(u2)\n",
    "        u3 = torch.cat([u3, d5], dim=1)\n",
    "        u4 = self.up4(u3)\n",
    "        u4 = torch.cat([u4, d4], dim=1)\n",
    "        u5 = self.up5(u4)\n",
    "        u5 = torch.cat([u5, d3], dim=1)\n",
    "        u6 = self.up6(u5)\n",
    "        u6 = torch.cat([u6, d2], dim=1)\n",
    "        u7 = self.up7(u6)\n",
    "        u7 = torch.cat([u7, d1], dim=1)\n",
    "        output = self.up8(u7)\n",
    "        return output\n",
    "\n",
    "# Discriminator Model (PatchGAN)\n",
    "class Discriminator(nn.Module):\n",
    "    def __init__(self, in_channels=6):\n",
    "        super(Discriminator, self).__init__()\n",
    "        self.model = nn.Sequential(\n",
    "            nn.Conv2d(in_channels, 64, 4, 2, 1),  # (b, 64, 128, 128)\n",
    "            nn.LeakyReLU(0.2, inplace=True),\n",
    "            nn.Conv2d(64, 128, 4, 2, 1, bias=False),  # (b, 128, 64, 64)\n",
    "            nn.BatchNorm2d(128),\n",
    "            nn.LeakyReLU(0.2, inplace=True),\n",
    "            nn.Conv2d(128, 256, 4, 2, 1, bias=False),  # (b, 256, 32, 32)\n",
    "            nn.BatchNorm2d(256),\n",
    "            nn.LeakyReLU(0.2, inplace=True),\n",
    "            nn.Conv2d(256, 512, 4, 1, 1, bias=False),  # (b, 512, 31, 31)\n",
    "            nn.BatchNorm2d(512),\n",
    "            nn.LeakyReLU(0.2, inplace=True),\n",
    "            nn.Conv2d(512, 1, 4, 1, 1)  # (b, 1, 30, 30)\n",
    "        )\n",
    "\n",
    "    def forward(self, x, y):\n",
    "        # Concatenate input and target images along the channel dimension\n",
    "        xy = torch.cat([x, y], dim=1)\n",
    "        return self.model(xy)\n",
    "\n",
    "# Initialize models\n",
    "generator = GeneratorUNet().to(device)\n",
    "discriminator = Discriminator().to(device)\n"
   ]
  },
  {
   "cell_type": "code",
   "execution_count": 4,
   "id": "2d492c66",
   "metadata": {
    "execution": {
     "iopub.execute_input": "2024-10-23T05:32:46.115353Z",
     "iopub.status.busy": "2024-10-23T05:32:46.114998Z",
     "iopub.status.idle": "2024-10-23T05:32:46.123488Z",
     "shell.execute_reply": "2024-10-23T05:32:46.122746Z"
    },
    "papermill": {
     "duration": 0.014349,
     "end_time": "2024-10-23T05:32:46.125366",
     "exception": false,
     "start_time": "2024-10-23T05:32:46.111017",
     "status": "completed"
    },
    "tags": []
   },
   "outputs": [],
   "source": [
    "# 4. Loss Functions and Optimizers\n",
    "\n",
    "# Adversarial loss\n",
    "criterion_GAN = nn.BCEWithLogitsLoss().to(device)\n",
    "# L1 loss between generated image and target image\n",
    "criterion_L1 = nn.L1Loss().to(device)\n",
    "\n",
    "# Optionally, define perceptual loss using VGG19\n",
    "use_perceptual_loss = False  # Set to True if you want to use perceptual loss\n",
    "if use_perceptual_loss:\n",
    "    from torchvision.models import vgg19\n",
    "    vgg = vgg19(pretrained=True).features[:35].to(device).eval()\n",
    "    for param in vgg.parameters():\n",
    "        param.requires_grad = False\n",
    "\n",
    "    def compute_perceptual_loss(fake_img, real_img):\n",
    "        fake_features = vgg(fake_img)\n",
    "        real_features = vgg(real_img)\n",
    "        perceptual_loss = criterion_L1(fake_features, real_features)\n",
    "        return perceptual_loss\n",
    "\n",
    "# Optimizers\n",
    "optimizer_G = torch.optim.Adam(generator.parameters(), lr=learning_rate, betas=(0.5, 0.999))\n",
    "optimizer_D = torch.optim.Adam(discriminator.parameters(), lr=learning_rate, betas=(0.5, 0.999))\n"
   ]
  },
  {
   "cell_type": "code",
   "execution_count": 5,
   "id": "91ef6e0e",
   "metadata": {
    "execution": {
     "iopub.execute_input": "2024-10-23T05:32:46.132625Z",
     "iopub.status.busy": "2024-10-23T05:32:46.132336Z",
     "iopub.status.idle": "2024-10-23T05:32:46.141159Z",
     "shell.execute_reply": "2024-10-23T05:32:46.140202Z"
    },
    "papermill": {
     "duration": 0.014692,
     "end_time": "2024-10-23T05:32:46.143095",
     "exception": false,
     "start_time": "2024-10-23T05:32:46.128403",
     "status": "completed"
    },
    "tags": []
   },
   "outputs": [
    {
     "name": "stdout",
     "output_type": "stream",
     "text": [
      "No checkpoint found. Starting training from scratch.\n"
     ]
    }
   ],
   "source": [
    "def load_checkpoint(generator, discriminator, optimizer_G, optimizer_D):\n",
    "    checkpoint_path = os.path.join(checkpoint_dir, \"latest_checkpoint.pth\")\n",
    "    if os.path.exists(checkpoint_path):\n",
    "        print(f\"Loading checkpoint: {checkpoint_path}\")\n",
    "        checkpoint = torch.load(checkpoint_path)\n",
    "        generator.load_state_dict(checkpoint['generator_state_dict'])\n",
    "        discriminator.load_state_dict(checkpoint['discriminator_state_dict'])\n",
    "        optimizer_G.load_state_dict(checkpoint['optimizer_G_state_dict'])\n",
    "        optimizer_D.load_state_dict(checkpoint['optimizer_D_state_dict'])\n",
    "        start_epoch = checkpoint['epoch'] + 1\n",
    "        G_losses = checkpoint['G_losses']\n",
    "        D_losses = checkpoint['D_losses']\n",
    "        val_losses = checkpoint['val_losses']\n",
    "        val_accuracies = checkpoint['val_accuracies']\n",
    "    else:\n",
    "        print(\"No checkpoint found. Starting training from scratch.\")\n",
    "        start_epoch = 0\n",
    "        G_losses = []\n",
    "        D_losses = []\n",
    "        val_losses = []\n",
    "        val_accuracies = []\n",
    "    return start_epoch, G_losses, D_losses, val_losses, val_accuracies\n",
    "\n",
    "# Load checkpoints if any\n",
    "start_epoch, G_losses, D_losses, val_losses, val_accuracies = load_checkpoint(\n",
    "    generator, discriminator, optimizer_G, optimizer_D)\n"
   ]
  },
  {
   "cell_type": "code",
   "execution_count": 6,
   "id": "2bec8ef1",
   "metadata": {
    "execution": {
     "iopub.execute_input": "2024-10-23T05:32:46.150908Z",
     "iopub.status.busy": "2024-10-23T05:32:46.150604Z"
    },
    "papermill": {
     "duration": null,
     "end_time": null,
     "exception": false,
     "start_time": "2024-10-23T05:32:46.146314",
     "status": "running"
    },
    "tags": []
   },
   "outputs": [
    {
     "name": "stderr",
     "output_type": "stream",
     "text": [
      "\r",
      "Epoch 0/60:   0%|          | 0/162 [00:00<?, ?it/s]"
     ]
    },
    {
     "name": "stderr",
     "output_type": "stream",
     "text": [
      "\r",
      "Epoch 0/60:   1%|          | 1/162 [00:05<15:36,  5.82s/it]"
     ]
    },
    {
     "name": "stderr",
     "output_type": "stream",
     "text": [
      "\r",
      "Epoch 0/60:   1%|          | 2/162 [00:10<13:49,  5.19s/it]"
     ]
    },
    {
     "name": "stderr",
     "output_type": "stream",
     "text": [
      "\r",
      "Epoch 0/60:   2%|▏         | 3/162 [00:15<13:22,  5.05s/it]"
     ]
    },
    {
     "name": "stderr",
     "output_type": "stream",
     "text": [
      "\r",
      "Epoch 0/60:   2%|▏         | 4/162 [00:20<12:59,  4.94s/it]"
     ]
    },
    {
     "name": "stderr",
     "output_type": "stream",
     "text": [
      "\r",
      "Epoch 0/60:   3%|▎         | 5/162 [00:24<12:45,  4.87s/it]"
     ]
    },
    {
     "name": "stderr",
     "output_type": "stream",
     "text": [
      "\r",
      "Epoch 0/60:   4%|▎         | 6/162 [00:29<12:32,  4.82s/it]"
     ]
    },
    {
     "name": "stderr",
     "output_type": "stream",
     "text": [
      "\r",
      "Epoch 0/60:   4%|▍         | 7/162 [00:34<12:22,  4.79s/it]"
     ]
    },
    {
     "name": "stderr",
     "output_type": "stream",
     "text": [
      "\r",
      "Epoch 0/60:   5%|▍         | 8/162 [00:39<12:14,  4.77s/it]"
     ]
    },
    {
     "name": "stderr",
     "output_type": "stream",
     "text": [
      "\r",
      "Epoch 0/60:   6%|▌         | 9/162 [00:43<12:10,  4.77s/it]"
     ]
    },
    {
     "name": "stderr",
     "output_type": "stream",
     "text": [
      "\r",
      "Epoch 0/60:   6%|▌         | 10/162 [00:48<12:08,  4.80s/it]"
     ]
    },
    {
     "name": "stderr",
     "output_type": "stream",
     "text": [
      "\r",
      "Epoch 0/60:   7%|▋         | 11/162 [00:53<12:06,  4.81s/it]"
     ]
    },
    {
     "name": "stderr",
     "output_type": "stream",
     "text": [
      "\r",
      "Epoch 0/60:   7%|▋         | 12/162 [00:58<11:59,  4.79s/it]"
     ]
    },
    {
     "name": "stderr",
     "output_type": "stream",
     "text": [
      "\r",
      "Epoch 0/60:   8%|▊         | 13/162 [01:03<12:04,  4.86s/it]"
     ]
    },
    {
     "name": "stderr",
     "output_type": "stream",
     "text": [
      "\r",
      "Epoch 0/60:   9%|▊         | 14/162 [01:08<11:56,  4.84s/it]"
     ]
    },
    {
     "name": "stderr",
     "output_type": "stream",
     "text": [
      "\r",
      "Epoch 0/60:   9%|▉         | 15/162 [01:13<11:57,  4.88s/it]"
     ]
    },
    {
     "name": "stderr",
     "output_type": "stream",
     "text": [
      "\r",
      "Epoch 0/60:  10%|▉         | 16/162 [01:17<11:47,  4.84s/it]"
     ]
    },
    {
     "name": "stderr",
     "output_type": "stream",
     "text": [
      "\r",
      "Epoch 0/60:  10%|█         | 17/162 [01:22<11:42,  4.85s/it]"
     ]
    },
    {
     "name": "stderr",
     "output_type": "stream",
     "text": [
      "\r",
      "Epoch 0/60:  11%|█         | 18/162 [01:27<11:36,  4.84s/it]"
     ]
    },
    {
     "name": "stderr",
     "output_type": "stream",
     "text": [
      "\r",
      "Epoch 0/60:  12%|█▏        | 19/162 [01:32<11:25,  4.79s/it]"
     ]
    },
    {
     "name": "stderr",
     "output_type": "stream",
     "text": [
      "\r",
      "Epoch 0/60:  12%|█▏        | 20/162 [01:37<11:30,  4.86s/it]"
     ]
    },
    {
     "name": "stderr",
     "output_type": "stream",
     "text": [
      "\r",
      "Epoch 0/60:  13%|█▎        | 21/162 [01:42<11:24,  4.85s/it]"
     ]
    },
    {
     "name": "stderr",
     "output_type": "stream",
     "text": [
      "\r",
      "Epoch 0/60:  14%|█▎        | 22/162 [01:46<11:12,  4.81s/it]"
     ]
    },
    {
     "name": "stderr",
     "output_type": "stream",
     "text": [
      "\r",
      "Epoch 0/60:  14%|█▍        | 23/162 [01:51<11:11,  4.83s/it]"
     ]
    },
    {
     "name": "stderr",
     "output_type": "stream",
     "text": [
      "\r",
      "Epoch 0/60:  15%|█▍        | 24/162 [01:56<11:06,  4.83s/it]"
     ]
    },
    {
     "name": "stderr",
     "output_type": "stream",
     "text": [
      "\r",
      "Epoch 0/60:  15%|█▌        | 25/162 [02:01<10:57,  4.80s/it]"
     ]
    },
    {
     "name": "stderr",
     "output_type": "stream",
     "text": [
      "\r",
      "Epoch 0/60:  16%|█▌        | 26/162 [02:06<10:56,  4.83s/it]"
     ]
    },
    {
     "name": "stderr",
     "output_type": "stream",
     "text": [
      "\r",
      "Epoch 0/60:  17%|█▋        | 27/162 [02:10<10:48,  4.80s/it]"
     ]
    },
    {
     "name": "stderr",
     "output_type": "stream",
     "text": [
      "\r",
      "Epoch 0/60:  17%|█▋        | 28/162 [02:15<10:48,  4.84s/it]"
     ]
    },
    {
     "name": "stderr",
     "output_type": "stream",
     "text": [
      "\r",
      "Epoch 0/60:  18%|█▊        | 29/162 [02:20<10:46,  4.86s/it]"
     ]
    },
    {
     "name": "stderr",
     "output_type": "stream",
     "text": [
      "\r",
      "Epoch 0/60:  19%|█▊        | 30/162 [02:25<10:36,  4.82s/it]"
     ]
    },
    {
     "name": "stderr",
     "output_type": "stream",
     "text": [
      "\r",
      "Epoch 0/60:  19%|█▉        | 31/162 [02:30<10:26,  4.78s/it]"
     ]
    },
    {
     "name": "stderr",
     "output_type": "stream",
     "text": [
      "\r",
      "Epoch 0/60:  20%|█▉        | 32/162 [02:34<10:17,  4.75s/it]"
     ]
    },
    {
     "name": "stderr",
     "output_type": "stream",
     "text": [
      "\r",
      "Epoch 0/60:  20%|██        | 33/162 [02:39<10:18,  4.79s/it]"
     ]
    },
    {
     "name": "stderr",
     "output_type": "stream",
     "text": [
      "\r",
      "Epoch 0/60:  21%|██        | 34/162 [02:44<10:12,  4.78s/it]"
     ]
    },
    {
     "name": "stderr",
     "output_type": "stream",
     "text": [
      "\r",
      "Epoch 0/60:  22%|██▏       | 35/162 [02:49<10:09,  4.80s/it]"
     ]
    },
    {
     "name": "stderr",
     "output_type": "stream",
     "text": [
      "\r",
      "Epoch 0/60:  22%|██▏       | 36/162 [02:54<10:08,  4.83s/it]"
     ]
    },
    {
     "name": "stderr",
     "output_type": "stream",
     "text": [
      "\r",
      "Epoch 0/60:  23%|██▎       | 37/162 [02:58<09:59,  4.80s/it]"
     ]
    },
    {
     "name": "stderr",
     "output_type": "stream",
     "text": [
      "\r",
      "Epoch 0/60:  23%|██▎       | 38/162 [03:03<10:01,  4.85s/it]"
     ]
    },
    {
     "name": "stderr",
     "output_type": "stream",
     "text": [
      "\r",
      "Epoch 0/60:  24%|██▍       | 39/162 [03:08<09:53,  4.83s/it]"
     ]
    },
    {
     "name": "stderr",
     "output_type": "stream",
     "text": [
      "\r",
      "Epoch 0/60:  25%|██▍       | 40/162 [03:13<09:50,  4.84s/it]"
     ]
    },
    {
     "name": "stderr",
     "output_type": "stream",
     "text": [
      "\r",
      "Epoch 0/60:  25%|██▌       | 41/162 [03:18<09:46,  4.85s/it]"
     ]
    },
    {
     "name": "stderr",
     "output_type": "stream",
     "text": [
      "\r",
      "Epoch 0/60:  26%|██▌       | 42/162 [03:23<09:48,  4.90s/it]"
     ]
    },
    {
     "name": "stderr",
     "output_type": "stream",
     "text": [
      "\r",
      "Epoch 0/60:  27%|██▋       | 43/162 [03:28<09:44,  4.91s/it]"
     ]
    },
    {
     "name": "stderr",
     "output_type": "stream",
     "text": [
      "\r",
      "Epoch 0/60:  27%|██▋       | 44/162 [03:33<09:37,  4.89s/it]"
     ]
    },
    {
     "name": "stderr",
     "output_type": "stream",
     "text": [
      "\r",
      "Epoch 0/60:  28%|██▊       | 45/162 [03:38<09:31,  4.88s/it]"
     ]
    },
    {
     "name": "stderr",
     "output_type": "stream",
     "text": [
      "\r",
      "Epoch 0/60:  28%|██▊       | 46/162 [03:43<09:34,  4.95s/it]"
     ]
    },
    {
     "name": "stderr",
     "output_type": "stream",
     "text": [
      "\r",
      "Epoch 0/60:  29%|██▉       | 47/162 [03:48<09:26,  4.93s/it]"
     ]
    },
    {
     "name": "stderr",
     "output_type": "stream",
     "text": [
      "\r",
      "Epoch 0/60:  30%|██▉       | 48/162 [03:53<09:21,  4.92s/it]"
     ]
    },
    {
     "name": "stderr",
     "output_type": "stream",
     "text": [
      "\r",
      "Epoch 0/60:  30%|███       | 49/162 [03:58<09:25,  5.01s/it]"
     ]
    },
    {
     "name": "stderr",
     "output_type": "stream",
     "text": [
      "\r",
      "Epoch 0/60:  31%|███       | 50/162 [04:03<09:19,  4.99s/it]"
     ]
    },
    {
     "name": "stderr",
     "output_type": "stream",
     "text": [
      "\r",
      "Epoch 0/60:  31%|███▏      | 51/162 [04:08<09:12,  4.98s/it]"
     ]
    },
    {
     "name": "stderr",
     "output_type": "stream",
     "text": [
      "\r",
      "Epoch 0/60:  32%|███▏      | 52/162 [04:13<09:11,  5.02s/it]"
     ]
    },
    {
     "name": "stderr",
     "output_type": "stream",
     "text": [
      "\r",
      "Epoch 0/60:  33%|███▎      | 53/162 [04:18<09:06,  5.01s/it]"
     ]
    },
    {
     "name": "stderr",
     "output_type": "stream",
     "text": [
      "\r",
      "Epoch 0/60:  33%|███▎      | 54/162 [04:23<08:58,  4.98s/it]"
     ]
    },
    {
     "name": "stderr",
     "output_type": "stream",
     "text": [
      "\r",
      "Epoch 0/60:  34%|███▍      | 55/162 [04:28<08:51,  4.97s/it]"
     ]
    },
    {
     "name": "stderr",
     "output_type": "stream",
     "text": [
      "\r",
      "Epoch 0/60:  35%|███▍      | 56/162 [04:32<08:37,  4.88s/it]"
     ]
    },
    {
     "name": "stderr",
     "output_type": "stream",
     "text": [
      "\r",
      "Epoch 0/60:  35%|███▌      | 57/162 [04:37<08:34,  4.90s/it]"
     ]
    },
    {
     "name": "stderr",
     "output_type": "stream",
     "text": [
      "\r",
      "Epoch 0/60:  36%|███▌      | 58/162 [04:42<08:28,  4.89s/it]"
     ]
    },
    {
     "name": "stderr",
     "output_type": "stream",
     "text": [
      "\r",
      "Epoch 0/60:  36%|███▋      | 59/162 [04:47<08:23,  4.89s/it]"
     ]
    },
    {
     "name": "stderr",
     "output_type": "stream",
     "text": [
      "\r",
      "Epoch 0/60:  37%|███▋      | 60/162 [04:52<08:22,  4.93s/it]"
     ]
    },
    {
     "name": "stderr",
     "output_type": "stream",
     "text": [
      "\r",
      "Epoch 0/60:  38%|███▊      | 61/162 [04:57<08:14,  4.90s/it]"
     ]
    },
    {
     "name": "stderr",
     "output_type": "stream",
     "text": [
      "\r",
      "Epoch 0/60:  38%|███▊      | 62/162 [05:02<08:09,  4.89s/it]"
     ]
    },
    {
     "name": "stderr",
     "output_type": "stream",
     "text": [
      "\r",
      "Epoch 0/60:  39%|███▉      | 63/162 [05:07<08:02,  4.88s/it]"
     ]
    },
    {
     "name": "stderr",
     "output_type": "stream",
     "text": [
      "\r",
      "Epoch 0/60:  40%|███▉      | 64/162 [05:11<08:00,  4.90s/it]"
     ]
    },
    {
     "name": "stderr",
     "output_type": "stream",
     "text": [
      "\r",
      "Epoch 0/60:  40%|████      | 65/162 [05:17<08:01,  4.96s/it]"
     ]
    },
    {
     "name": "stderr",
     "output_type": "stream",
     "text": [
      "\r",
      "Epoch 0/60:  41%|████      | 66/162 [05:22<07:55,  4.96s/it]"
     ]
    },
    {
     "name": "stderr",
     "output_type": "stream",
     "text": [
      "\r",
      "Epoch 0/60:  41%|████▏     | 67/162 [05:26<07:45,  4.90s/it]"
     ]
    },
    {
     "name": "stderr",
     "output_type": "stream",
     "text": [
      "\r",
      "Epoch 0/60:  42%|████▏     | 68/162 [05:31<07:35,  4.84s/it]"
     ]
    },
    {
     "name": "stderr",
     "output_type": "stream",
     "text": [
      "\r",
      "Epoch 0/60:  43%|████▎     | 69/162 [05:36<07:23,  4.77s/it]"
     ]
    },
    {
     "name": "stderr",
     "output_type": "stream",
     "text": [
      "\r",
      "Epoch 0/60:  43%|████▎     | 70/162 [05:40<07:20,  4.79s/it]"
     ]
    },
    {
     "name": "stderr",
     "output_type": "stream",
     "text": [
      "\r",
      "Epoch 0/60:  44%|████▍     | 71/162 [05:45<07:16,  4.79s/it]"
     ]
    },
    {
     "name": "stderr",
     "output_type": "stream",
     "text": [
      "\r",
      "Epoch 0/60:  44%|████▍     | 72/162 [05:50<07:13,  4.81s/it]"
     ]
    },
    {
     "name": "stderr",
     "output_type": "stream",
     "text": [
      "\r",
      "Epoch 0/60:  45%|████▌     | 73/162 [05:55<07:06,  4.79s/it]"
     ]
    },
    {
     "name": "stderr",
     "output_type": "stream",
     "text": [
      "\r",
      "Epoch 0/60:  46%|████▌     | 74/162 [06:00<07:09,  4.88s/it]"
     ]
    },
    {
     "name": "stderr",
     "output_type": "stream",
     "text": [
      "\r",
      "Epoch 0/60:  46%|████▋     | 75/162 [06:05<07:00,  4.84s/it]"
     ]
    },
    {
     "name": "stderr",
     "output_type": "stream",
     "text": [
      "\r",
      "Epoch 0/60:  47%|████▋     | 76/162 [06:10<06:58,  4.86s/it]"
     ]
    },
    {
     "name": "stderr",
     "output_type": "stream",
     "text": [
      "\r",
      "Epoch 0/60:  48%|████▊     | 77/162 [06:14<06:51,  4.84s/it]"
     ]
    },
    {
     "name": "stderr",
     "output_type": "stream",
     "text": [
      "\r",
      "Epoch 0/60:  48%|████▊     | 78/162 [06:19<06:48,  4.87s/it]"
     ]
    },
    {
     "name": "stderr",
     "output_type": "stream",
     "text": [
      "\r",
      "Epoch 0/60:  49%|████▉     | 79/162 [06:24<06:43,  4.86s/it]"
     ]
    },
    {
     "name": "stderr",
     "output_type": "stream",
     "text": [
      "\r",
      "Epoch 0/60:  49%|████▉     | 80/162 [06:29<06:38,  4.86s/it]"
     ]
    },
    {
     "name": "stderr",
     "output_type": "stream",
     "text": [
      "\r",
      "Epoch 0/60:  50%|█████     | 81/162 [06:34<06:33,  4.85s/it]"
     ]
    },
    {
     "name": "stderr",
     "output_type": "stream",
     "text": [
      "\r",
      "Epoch 0/60:  51%|█████     | 82/162 [06:39<06:24,  4.81s/it]"
     ]
    },
    {
     "name": "stderr",
     "output_type": "stream",
     "text": [
      "\r",
      "Epoch 0/60:  51%|█████     | 83/162 [06:43<06:20,  4.82s/it]"
     ]
    },
    {
     "name": "stderr",
     "output_type": "stream",
     "text": [
      "\r",
      "Epoch 0/60:  52%|█████▏    | 84/162 [06:48<06:13,  4.79s/it]"
     ]
    },
    {
     "name": "stderr",
     "output_type": "stream",
     "text": [
      "\r",
      "Epoch 0/60:  52%|█████▏    | 85/162 [06:53<06:08,  4.78s/it]"
     ]
    },
    {
     "name": "stderr",
     "output_type": "stream",
     "text": [
      "\r",
      "Epoch 0/60:  53%|█████▎    | 86/162 [06:58<06:06,  4.82s/it]"
     ]
    },
    {
     "name": "stderr",
     "output_type": "stream",
     "text": [
      "\r",
      "Epoch 0/60:  54%|█████▎    | 87/162 [07:03<06:00,  4.81s/it]"
     ]
    },
    {
     "name": "stderr",
     "output_type": "stream",
     "text": [
      "\r",
      "Epoch 0/60:  54%|█████▍    | 88/162 [07:07<05:54,  4.79s/it]"
     ]
    },
    {
     "name": "stderr",
     "output_type": "stream",
     "text": [
      "\r",
      "Epoch 0/60:  55%|█████▍    | 89/162 [07:12<05:50,  4.81s/it]"
     ]
    },
    {
     "name": "stderr",
     "output_type": "stream",
     "text": [
      "\r",
      "Epoch 0/60:  56%|█████▌    | 90/162 [07:17<05:43,  4.78s/it]"
     ]
    },
    {
     "name": "stderr",
     "output_type": "stream",
     "text": [
      "\r",
      "Epoch 0/60:  56%|█████▌    | 91/162 [07:22<05:45,  4.87s/it]"
     ]
    },
    {
     "name": "stderr",
     "output_type": "stream",
     "text": [
      "\r",
      "Epoch 0/60:  57%|█████▋    | 92/162 [07:27<05:40,  4.87s/it]"
     ]
    },
    {
     "name": "stderr",
     "output_type": "stream",
     "text": [
      "\r",
      "Epoch 0/60:  57%|█████▋    | 93/162 [07:31<05:31,  4.80s/it]"
     ]
    },
    {
     "name": "stderr",
     "output_type": "stream",
     "text": [
      "\r",
      "Epoch 0/60:  58%|█████▊    | 94/162 [07:36<05:24,  4.77s/it]"
     ]
    },
    {
     "name": "stderr",
     "output_type": "stream",
     "text": [
      "\r",
      "Epoch 0/60:  59%|█████▊    | 95/162 [07:41<05:18,  4.76s/it]"
     ]
    },
    {
     "name": "stderr",
     "output_type": "stream",
     "text": [
      "\r",
      "Epoch 0/60:  59%|█████▉    | 96/162 [07:46<05:14,  4.76s/it]"
     ]
    },
    {
     "name": "stderr",
     "output_type": "stream",
     "text": [
      "\r",
      "Epoch 0/60:  60%|█████▉    | 97/162 [07:50<05:09,  4.77s/it]"
     ]
    },
    {
     "name": "stderr",
     "output_type": "stream",
     "text": [
      "\r",
      "Epoch 0/60:  60%|██████    | 98/162 [07:55<05:05,  4.77s/it]"
     ]
    },
    {
     "name": "stderr",
     "output_type": "stream",
     "text": [
      "\r",
      "Epoch 0/60:  61%|██████    | 99/162 [08:00<04:58,  4.74s/it]"
     ]
    },
    {
     "name": "stderr",
     "output_type": "stream",
     "text": [
      "\r",
      "Epoch 0/60:  62%|██████▏   | 100/162 [08:04<04:49,  4.67s/it]"
     ]
    },
    {
     "name": "stderr",
     "output_type": "stream",
     "text": [
      "\r",
      "Epoch 0/60:  62%|██████▏   | 101/162 [08:09<04:45,  4.68s/it]"
     ]
    },
    {
     "name": "stderr",
     "output_type": "stream",
     "text": [
      "\r",
      "Epoch 0/60:  63%|██████▎   | 102/162 [08:14<04:40,  4.68s/it]"
     ]
    },
    {
     "name": "stderr",
     "output_type": "stream",
     "text": [
      "\r",
      "Epoch 0/60:  64%|██████▎   | 103/162 [08:19<04:37,  4.70s/it]"
     ]
    },
    {
     "name": "stderr",
     "output_type": "stream",
     "text": [
      "\r",
      "Epoch 0/60:  64%|██████▍   | 104/162 [08:23<04:35,  4.75s/it]"
     ]
    },
    {
     "name": "stderr",
     "output_type": "stream",
     "text": [
      "\r",
      "Epoch 0/60:  65%|██████▍   | 105/162 [08:28<04:30,  4.75s/it]"
     ]
    },
    {
     "name": "stderr",
     "output_type": "stream",
     "text": [
      "\r",
      "Epoch 0/60:  65%|██████▌   | 106/162 [08:33<04:23,  4.71s/it]"
     ]
    },
    {
     "name": "stderr",
     "output_type": "stream",
     "text": [
      "\r",
      "Epoch 0/60:  66%|██████▌   | 107/162 [08:37<04:17,  4.67s/it]"
     ]
    },
    {
     "name": "stderr",
     "output_type": "stream",
     "text": [
      "\r",
      "Epoch 0/60:  67%|██████▋   | 108/162 [08:42<04:12,  4.67s/it]"
     ]
    },
    {
     "name": "stderr",
     "output_type": "stream",
     "text": [
      "\r",
      "Epoch 0/60:  67%|██████▋   | 109/162 [08:47<04:05,  4.64s/it]"
     ]
    },
    {
     "name": "stderr",
     "output_type": "stream",
     "text": [
      "\r",
      "Epoch 0/60:  68%|██████▊   | 110/162 [08:51<04:02,  4.67s/it]"
     ]
    },
    {
     "name": "stderr",
     "output_type": "stream",
     "text": [
      "\r",
      "Epoch 0/60:  69%|██████▊   | 111/162 [08:56<04:02,  4.75s/it]"
     ]
    },
    {
     "name": "stderr",
     "output_type": "stream",
     "text": [
      "\r",
      "Epoch 0/60:  69%|██████▉   | 112/162 [09:01<03:58,  4.77s/it]"
     ]
    },
    {
     "name": "stderr",
     "output_type": "stream",
     "text": [
      "\r",
      "Epoch 0/60:  70%|██████▉   | 113/162 [09:06<03:51,  4.72s/it]"
     ]
    },
    {
     "name": "stderr",
     "output_type": "stream",
     "text": [
      "\r",
      "Epoch 0/60:  70%|███████   | 114/162 [09:10<03:47,  4.73s/it]"
     ]
    },
    {
     "name": "stderr",
     "output_type": "stream",
     "text": [
      "\r",
      "Epoch 0/60:  71%|███████   | 115/162 [09:15<03:39,  4.68s/it]"
     ]
    },
    {
     "name": "stderr",
     "output_type": "stream",
     "text": [
      "\r",
      "Epoch 0/60:  72%|███████▏  | 116/162 [09:20<03:35,  4.68s/it]"
     ]
    },
    {
     "name": "stderr",
     "output_type": "stream",
     "text": [
      "\r",
      "Epoch 0/60:  72%|███████▏  | 117/162 [09:24<03:32,  4.73s/it]"
     ]
    },
    {
     "name": "stderr",
     "output_type": "stream",
     "text": [
      "\r",
      "Epoch 0/60:  73%|███████▎  | 118/162 [09:29<03:30,  4.77s/it]"
     ]
    },
    {
     "name": "stderr",
     "output_type": "stream",
     "text": [
      "\r",
      "Epoch 0/60:  73%|███████▎  | 119/162 [09:34<03:25,  4.78s/it]"
     ]
    },
    {
     "name": "stderr",
     "output_type": "stream",
     "text": [
      "\r",
      "Epoch 0/60:  74%|███████▍  | 120/162 [09:39<03:20,  4.77s/it]"
     ]
    },
    {
     "name": "stderr",
     "output_type": "stream",
     "text": [
      "\r",
      "Epoch 0/60:  75%|███████▍  | 121/162 [09:44<03:15,  4.77s/it]"
     ]
    },
    {
     "name": "stderr",
     "output_type": "stream",
     "text": [
      "\r",
      "Epoch 0/60:  75%|███████▌  | 122/162 [09:48<03:09,  4.74s/it]"
     ]
    },
    {
     "name": "stderr",
     "output_type": "stream",
     "text": [
      "\r",
      "Epoch 0/60:  76%|███████▌  | 123/162 [09:53<03:05,  4.75s/it]"
     ]
    },
    {
     "name": "stderr",
     "output_type": "stream",
     "text": [
      "\r",
      "Epoch 0/60:  77%|███████▋  | 124/162 [09:58<03:04,  4.86s/it]"
     ]
    },
    {
     "name": "stderr",
     "output_type": "stream",
     "text": [
      "\r",
      "Epoch 0/60:  77%|███████▋  | 125/162 [10:03<02:59,  4.85s/it]"
     ]
    },
    {
     "name": "stderr",
     "output_type": "stream",
     "text": [
      "\r",
      "Epoch 0/60:  78%|███████▊  | 126/162 [10:08<02:53,  4.83s/it]"
     ]
    },
    {
     "name": "stderr",
     "output_type": "stream",
     "text": [
      "\r",
      "Epoch 0/60:  78%|███████▊  | 127/162 [10:12<02:46,  4.76s/it]"
     ]
    },
    {
     "name": "stderr",
     "output_type": "stream",
     "text": [
      "\r",
      "Epoch 0/60:  79%|███████▉  | 128/162 [10:17<02:42,  4.77s/it]"
     ]
    },
    {
     "name": "stderr",
     "output_type": "stream",
     "text": [
      "\r",
      "Epoch 0/60:  80%|███████▉  | 129/162 [10:22<02:36,  4.73s/it]"
     ]
    },
    {
     "name": "stderr",
     "output_type": "stream",
     "text": [
      "\r",
      "Epoch 0/60:  80%|████████  | 130/162 [10:26<02:29,  4.68s/it]"
     ]
    },
    {
     "name": "stderr",
     "output_type": "stream",
     "text": [
      "\r",
      "Epoch 0/60:  81%|████████  | 131/162 [10:31<02:25,  4.69s/it]"
     ]
    },
    {
     "name": "stderr",
     "output_type": "stream",
     "text": [
      "\r",
      "Epoch 0/60:  81%|████████▏ | 132/162 [10:36<02:20,  4.70s/it]"
     ]
    },
    {
     "name": "stderr",
     "output_type": "stream",
     "text": [
      "\r",
      "Epoch 0/60:  82%|████████▏ | 133/162 [10:40<02:15,  4.68s/it]"
     ]
    },
    {
     "name": "stderr",
     "output_type": "stream",
     "text": [
      "\r",
      "Epoch 0/60:  83%|████████▎ | 134/162 [10:45<02:09,  4.62s/it]"
     ]
    },
    {
     "name": "stderr",
     "output_type": "stream",
     "text": [
      "\r",
      "Epoch 0/60:  83%|████████▎ | 135/162 [10:50<02:04,  4.63s/it]"
     ]
    },
    {
     "name": "stderr",
     "output_type": "stream",
     "text": [
      "\r",
      "Epoch 0/60:  84%|████████▍ | 136/162 [10:54<02:00,  4.63s/it]"
     ]
    },
    {
     "name": "stderr",
     "output_type": "stream",
     "text": [
      "\r",
      "Epoch 0/60:  85%|████████▍ | 137/162 [10:59<01:55,  4.61s/it]"
     ]
    },
    {
     "name": "stderr",
     "output_type": "stream",
     "text": [
      "\r",
      "Epoch 0/60:  85%|████████▌ | 138/162 [11:03<01:50,  4.62s/it]"
     ]
    },
    {
     "name": "stderr",
     "output_type": "stream",
     "text": [
      "\r",
      "Epoch 0/60:  86%|████████▌ | 139/162 [11:08<01:45,  4.59s/it]"
     ]
    },
    {
     "name": "stderr",
     "output_type": "stream",
     "text": [
      "\r",
      "Epoch 0/60:  86%|████████▋ | 140/162 [11:13<01:40,  4.58s/it]"
     ]
    },
    {
     "name": "stderr",
     "output_type": "stream",
     "text": [
      "\r",
      "Epoch 0/60:  87%|████████▋ | 141/162 [11:17<01:36,  4.58s/it]"
     ]
    },
    {
     "name": "stderr",
     "output_type": "stream",
     "text": [
      "\r",
      "Epoch 0/60:  88%|████████▊ | 142/162 [11:22<01:31,  4.56s/it]"
     ]
    },
    {
     "name": "stderr",
     "output_type": "stream",
     "text": [
      "\r",
      "Epoch 0/60:  88%|████████▊ | 143/162 [11:26<01:27,  4.59s/it]"
     ]
    },
    {
     "name": "stderr",
     "output_type": "stream",
     "text": [
      "\r",
      "Epoch 0/60:  89%|████████▉ | 144/162 [11:31<01:22,  4.57s/it]"
     ]
    },
    {
     "name": "stderr",
     "output_type": "stream",
     "text": [
      "\r",
      "Epoch 0/60:  90%|████████▉ | 145/162 [11:35<01:17,  4.58s/it]"
     ]
    },
    {
     "name": "stderr",
     "output_type": "stream",
     "text": [
      "\r",
      "Epoch 0/60:  90%|█████████ | 146/162 [11:40<01:12,  4.52s/it]"
     ]
    },
    {
     "name": "stderr",
     "output_type": "stream",
     "text": [
      "\r",
      "Epoch 0/60:  91%|█████████ | 147/162 [11:44<01:08,  4.54s/it]"
     ]
    },
    {
     "name": "stderr",
     "output_type": "stream",
     "text": [
      "\r",
      "Epoch 0/60:  91%|█████████▏| 148/162 [11:49<01:03,  4.50s/it]"
     ]
    },
    {
     "name": "stderr",
     "output_type": "stream",
     "text": [
      "\r",
      "Epoch 0/60:  92%|█████████▏| 149/162 [11:53<00:58,  4.52s/it]"
     ]
    },
    {
     "name": "stderr",
     "output_type": "stream",
     "text": [
      "\r",
      "Epoch 0/60:  93%|█████████▎| 150/162 [11:58<00:54,  4.57s/it]"
     ]
    },
    {
     "name": "stderr",
     "output_type": "stream",
     "text": [
      "\r",
      "Epoch 0/60:  93%|█████████▎| 151/162 [12:03<00:50,  4.55s/it]"
     ]
    },
    {
     "name": "stderr",
     "output_type": "stream",
     "text": [
      "\r",
      "Epoch 0/60:  94%|█████████▍| 152/162 [12:07<00:45,  4.58s/it]"
     ]
    },
    {
     "name": "stderr",
     "output_type": "stream",
     "text": [
      "\r",
      "Epoch 0/60:  94%|█████████▍| 153/162 [12:12<00:41,  4.56s/it]"
     ]
    },
    {
     "name": "stderr",
     "output_type": "stream",
     "text": [
      "\r",
      "Epoch 0/60:  95%|█████████▌| 154/162 [12:16<00:36,  4.55s/it]"
     ]
    },
    {
     "name": "stderr",
     "output_type": "stream",
     "text": [
      "\r",
      "Epoch 0/60:  96%|█████████▌| 155/162 [12:21<00:31,  4.56s/it]"
     ]
    },
    {
     "name": "stderr",
     "output_type": "stream",
     "text": [
      "\r",
      "Epoch 0/60:  96%|█████████▋| 156/162 [12:25<00:27,  4.52s/it]"
     ]
    },
    {
     "name": "stderr",
     "output_type": "stream",
     "text": [
      "\r",
      "Epoch 0/60:  97%|█████████▋| 157/162 [12:30<00:22,  4.49s/it]"
     ]
    },
    {
     "name": "stderr",
     "output_type": "stream",
     "text": [
      "\r",
      "Epoch 0/60:  98%|█████████▊| 158/162 [12:34<00:17,  4.42s/it]"
     ]
    },
    {
     "name": "stderr",
     "output_type": "stream",
     "text": [
      "\r",
      "Epoch 0/60:  98%|█████████▊| 159/162 [12:38<00:13,  4.44s/it]"
     ]
    },
    {
     "name": "stderr",
     "output_type": "stream",
     "text": [
      "\r",
      "Epoch 0/60:  99%|█████████▉| 160/162 [12:43<00:08,  4.45s/it]"
     ]
    },
    {
     "name": "stderr",
     "output_type": "stream",
     "text": [
      "\r",
      "Epoch 0/60:  99%|█████████▉| 161/162 [12:47<00:04,  4.43s/it]"
     ]
    },
    {
     "name": "stderr",
     "output_type": "stream",
     "text": [
      "\r",
      "Epoch 0/60: 100%|██████████| 162/162 [12:49<00:00,  3.63s/it]"
     ]
    },
    {
     "name": "stderr",
     "output_type": "stream",
     "text": [
      "\r",
      "Epoch 0/60: 100%|██████████| 162/162 [12:49<00:00,  4.75s/it]"
     ]
    },
    {
     "name": "stderr",
     "output_type": "stream",
     "text": [
      "\n"
     ]
    },
    {
     "name": "stdout",
     "output_type": "stream",
     "text": [
      "Epoch [0/60] Train Loss G: 33.7338, D: 0.5268 Val Loss: 31.1628, Val Accuracy: 0.4810\n"
     ]
    },
    {
     "name": "stderr",
     "output_type": "stream",
     "text": [
      "\r",
      "Epoch 1/60:   0%|          | 0/162 [00:00<?, ?it/s]"
     ]
    },
    {
     "name": "stderr",
     "output_type": "stream",
     "text": [
      "\r",
      "Epoch 1/60:   1%|          | 1/162 [00:03<09:26,  3.52s/it]"
     ]
    },
    {
     "name": "stderr",
     "output_type": "stream",
     "text": [
      "\r",
      "Epoch 1/60:   1%|          | 2/162 [00:06<09:17,  3.48s/it]"
     ]
    },
    {
     "name": "stderr",
     "output_type": "stream",
     "text": [
      "\r",
      "Epoch 1/60:   2%|▏         | 3/162 [00:10<09:26,  3.56s/it]"
     ]
    },
    {
     "name": "stderr",
     "output_type": "stream",
     "text": [
      "\r",
      "Epoch 1/60:   2%|▏         | 4/162 [00:14<09:16,  3.52s/it]"
     ]
    },
    {
     "name": "stderr",
     "output_type": "stream",
     "text": [
      "\r",
      "Epoch 1/60:   3%|▎         | 5/162 [00:18<09:36,  3.67s/it]"
     ]
    },
    {
     "name": "stderr",
     "output_type": "stream",
     "text": [
      "\r",
      "Epoch 1/60:   4%|▎         | 6/162 [00:21<09:33,  3.68s/it]"
     ]
    },
    {
     "name": "stderr",
     "output_type": "stream",
     "text": [
      "\r",
      "Epoch 1/60:   4%|▍         | 7/162 [00:25<09:22,  3.63s/it]"
     ]
    },
    {
     "name": "stderr",
     "output_type": "stream",
     "text": [
      "\r",
      "Epoch 1/60:   5%|▍         | 8/162 [00:28<09:16,  3.61s/it]"
     ]
    },
    {
     "name": "stderr",
     "output_type": "stream",
     "text": [
      "\r",
      "Epoch 1/60:   6%|▌         | 9/162 [00:32<09:06,  3.57s/it]"
     ]
    },
    {
     "name": "stderr",
     "output_type": "stream",
     "text": [
      "\r",
      "Epoch 1/60:   6%|▌         | 10/162 [00:35<08:56,  3.53s/it]"
     ]
    },
    {
     "name": "stderr",
     "output_type": "stream",
     "text": [
      "\r",
      "Epoch 1/60:   7%|▋         | 11/162 [00:39<08:56,  3.55s/it]"
     ]
    },
    {
     "name": "stderr",
     "output_type": "stream",
     "text": [
      "\r",
      "Epoch 1/60:   7%|▋         | 12/162 [00:42<08:50,  3.54s/it]"
     ]
    },
    {
     "name": "stderr",
     "output_type": "stream",
     "text": [
      "\r",
      "Epoch 1/60:   8%|▊         | 13/162 [00:46<08:52,  3.57s/it]"
     ]
    },
    {
     "name": "stderr",
     "output_type": "stream",
     "text": [
      "\r",
      "Epoch 1/60:   9%|▊         | 14/162 [00:50<09:04,  3.68s/it]"
     ]
    },
    {
     "name": "stderr",
     "output_type": "stream",
     "text": [
      "\r",
      "Epoch 1/60:   9%|▉         | 15/162 [00:53<08:52,  3.62s/it]"
     ]
    },
    {
     "name": "stderr",
     "output_type": "stream",
     "text": [
      "\r",
      "Epoch 1/60:  10%|▉         | 16/162 [00:57<08:43,  3.59s/it]"
     ]
    },
    {
     "name": "stderr",
     "output_type": "stream",
     "text": [
      "\r",
      "Epoch 1/60:  10%|█         | 17/162 [01:00<08:38,  3.57s/it]"
     ]
    },
    {
     "name": "stderr",
     "output_type": "stream",
     "text": [
      "\r",
      "Epoch 1/60:  11%|█         | 18/162 [01:04<08:29,  3.54s/it]"
     ]
    },
    {
     "name": "stderr",
     "output_type": "stream",
     "text": [
      "\r",
      "Epoch 1/60:  12%|█▏        | 19/162 [01:07<08:21,  3.51s/it]"
     ]
    },
    {
     "name": "stderr",
     "output_type": "stream",
     "text": [
      "\r",
      "Epoch 1/60:  12%|█▏        | 20/162 [01:11<08:16,  3.50s/it]"
     ]
    },
    {
     "name": "stderr",
     "output_type": "stream",
     "text": [
      "\r",
      "Epoch 1/60:  13%|█▎        | 21/162 [01:14<08:10,  3.48s/it]"
     ]
    },
    {
     "name": "stderr",
     "output_type": "stream",
     "text": [
      "\r",
      "Epoch 1/60:  14%|█▎        | 22/162 [01:18<08:05,  3.47s/it]"
     ]
    },
    {
     "name": "stderr",
     "output_type": "stream",
     "text": [
      "\r",
      "Epoch 1/60:  14%|█▍        | 23/162 [01:21<08:11,  3.53s/it]"
     ]
    },
    {
     "name": "stderr",
     "output_type": "stream",
     "text": [
      "\r",
      "Epoch 1/60:  15%|█▍        | 24/162 [01:25<08:04,  3.51s/it]"
     ]
    },
    {
     "name": "stderr",
     "output_type": "stream",
     "text": [
      "\r",
      "Epoch 1/60:  15%|█▌        | 25/162 [01:28<07:58,  3.49s/it]"
     ]
    },
    {
     "name": "stderr",
     "output_type": "stream",
     "text": [
      "\r",
      "Epoch 1/60:  16%|█▌        | 26/162 [01:32<07:53,  3.48s/it]"
     ]
    },
    {
     "name": "stderr",
     "output_type": "stream",
     "text": [
      "\r",
      "Epoch 1/60:  17%|█▋        | 27/162 [01:35<07:56,  3.53s/it]"
     ]
    },
    {
     "name": "stderr",
     "output_type": "stream",
     "text": [
      "\r",
      "Epoch 1/60:  17%|█▋        | 28/162 [01:39<07:54,  3.54s/it]"
     ]
    },
    {
     "name": "stderr",
     "output_type": "stream",
     "text": [
      "\r",
      "Epoch 1/60:  18%|█▊        | 29/162 [01:42<07:49,  3.53s/it]"
     ]
    },
    {
     "name": "stderr",
     "output_type": "stream",
     "text": [
      "\r",
      "Epoch 1/60:  19%|█▊        | 30/162 [01:46<07:43,  3.51s/it]"
     ]
    },
    {
     "name": "stderr",
     "output_type": "stream",
     "text": [
      "\r",
      "Epoch 1/60:  19%|█▉        | 31/162 [01:49<07:38,  3.50s/it]"
     ]
    },
    {
     "name": "stderr",
     "output_type": "stream",
     "text": [
      "\r",
      "Epoch 1/60:  20%|█▉        | 32/162 [01:53<07:54,  3.65s/it]"
     ]
    },
    {
     "name": "stderr",
     "output_type": "stream",
     "text": [
      "\r",
      "Epoch 1/60:  20%|██        | 33/162 [01:57<07:45,  3.61s/it]"
     ]
    },
    {
     "name": "stderr",
     "output_type": "stream",
     "text": [
      "\r",
      "Epoch 1/60:  21%|██        | 34/162 [02:00<07:35,  3.56s/it]"
     ]
    },
    {
     "name": "stderr",
     "output_type": "stream",
     "text": [
      "\r",
      "Epoch 1/60:  22%|██▏       | 35/162 [02:04<07:29,  3.54s/it]"
     ]
    },
    {
     "name": "stderr",
     "output_type": "stream",
     "text": [
      "\r",
      "Epoch 1/60:  22%|██▏       | 36/162 [02:07<07:22,  3.52s/it]"
     ]
    },
    {
     "name": "stderr",
     "output_type": "stream",
     "text": [
      "\r",
      "Epoch 1/60:  23%|██▎       | 37/162 [02:11<07:18,  3.51s/it]"
     ]
    },
    {
     "name": "stderr",
     "output_type": "stream",
     "text": [
      "\r",
      "Epoch 1/60:  23%|██▎       | 38/162 [02:14<07:13,  3.50s/it]"
     ]
    },
    {
     "name": "stderr",
     "output_type": "stream",
     "text": [
      "\r",
      "Epoch 1/60:  24%|██▍       | 39/162 [02:18<07:07,  3.48s/it]"
     ]
    },
    {
     "name": "stderr",
     "output_type": "stream",
     "text": [
      "\r",
      "Epoch 1/60:  25%|██▍       | 40/162 [02:21<07:04,  3.48s/it]"
     ]
    },
    {
     "name": "stderr",
     "output_type": "stream",
     "text": [
      "\r",
      "Epoch 1/60:  25%|██▌       | 41/162 [02:25<07:11,  3.57s/it]"
     ]
    },
    {
     "name": "stderr",
     "output_type": "stream",
     "text": [
      "\r",
      "Epoch 1/60:  26%|██▌       | 42/162 [02:28<07:03,  3.53s/it]"
     ]
    },
    {
     "name": "stderr",
     "output_type": "stream",
     "text": [
      "\r",
      "Epoch 1/60:  27%|██▋       | 43/162 [02:32<06:56,  3.50s/it]"
     ]
    },
    {
     "name": "stderr",
     "output_type": "stream",
     "text": [
      "\r",
      "Epoch 1/60:  27%|██▋       | 44/162 [02:35<06:55,  3.52s/it]"
     ]
    },
    {
     "name": "stderr",
     "output_type": "stream",
     "text": [
      "\r",
      "Epoch 1/60:  28%|██▊       | 45/162 [02:39<06:49,  3.50s/it]"
     ]
    },
    {
     "name": "stderr",
     "output_type": "stream",
     "text": [
      "\r",
      "Epoch 1/60:  28%|██▊       | 46/162 [02:42<06:44,  3.48s/it]"
     ]
    },
    {
     "name": "stderr",
     "output_type": "stream",
     "text": [
      "\r",
      "Epoch 1/60:  29%|██▉       | 47/162 [02:46<06:43,  3.51s/it]"
     ]
    },
    {
     "name": "stderr",
     "output_type": "stream",
     "text": [
      "\r",
      "Epoch 1/60:  30%|██▉       | 48/162 [02:50<06:45,  3.56s/it]"
     ]
    },
    {
     "name": "stderr",
     "output_type": "stream",
     "text": [
      "\r",
      "Epoch 1/60:  30%|███       | 49/162 [02:53<06:37,  3.52s/it]"
     ]
    },
    {
     "name": "stderr",
     "output_type": "stream",
     "text": [
      "\r",
      "Epoch 1/60:  31%|███       | 50/162 [02:57<06:48,  3.64s/it]"
     ]
    },
    {
     "name": "stderr",
     "output_type": "stream",
     "text": [
      "\r",
      "Epoch 1/60:  31%|███▏      | 51/162 [03:00<06:37,  3.58s/it]"
     ]
    },
    {
     "name": "stderr",
     "output_type": "stream",
     "text": [
      "\r",
      "Epoch 1/60:  32%|███▏      | 52/162 [03:04<06:31,  3.56s/it]"
     ]
    },
    {
     "name": "stderr",
     "output_type": "stream",
     "text": [
      "\r",
      "Epoch 1/60:  33%|███▎      | 53/162 [03:07<06:24,  3.53s/it]"
     ]
    },
    {
     "name": "stderr",
     "output_type": "stream",
     "text": [
      "\r",
      "Epoch 1/60:  33%|███▎      | 54/162 [03:11<06:16,  3.49s/it]"
     ]
    },
    {
     "name": "stderr",
     "output_type": "stream",
     "text": [
      "\r",
      "Epoch 1/60:  34%|███▍      | 55/162 [03:14<06:12,  3.48s/it]"
     ]
    },
    {
     "name": "stderr",
     "output_type": "stream",
     "text": [
      "\r",
      "Epoch 1/60:  35%|███▍      | 56/162 [03:18<06:08,  3.47s/it]"
     ]
    },
    {
     "name": "stderr",
     "output_type": "stream",
     "text": [
      "\r",
      "Epoch 1/60:  35%|███▌      | 57/162 [03:21<06:04,  3.47s/it]"
     ]
    },
    {
     "name": "stderr",
     "output_type": "stream",
     "text": [
      "\r",
      "Epoch 1/60:  36%|███▌      | 58/162 [03:25<06:08,  3.54s/it]"
     ]
    },
    {
     "name": "stderr",
     "output_type": "stream",
     "text": [
      "\r",
      "Epoch 1/60:  36%|███▋      | 59/162 [03:28<06:09,  3.59s/it]"
     ]
    },
    {
     "name": "stderr",
     "output_type": "stream",
     "text": [
      "\r",
      "Epoch 1/60:  37%|███▋      | 60/162 [03:32<06:05,  3.58s/it]"
     ]
    },
    {
     "name": "stderr",
     "output_type": "stream",
     "text": [
      "\r",
      "Epoch 1/60:  38%|███▊      | 61/162 [03:36<05:58,  3.55s/it]"
     ]
    },
    {
     "name": "stderr",
     "output_type": "stream",
     "text": [
      "\r",
      "Epoch 1/60:  38%|███▊      | 62/162 [03:39<05:52,  3.52s/it]"
     ]
    },
    {
     "name": "stderr",
     "output_type": "stream",
     "text": [
      "\r",
      "Epoch 1/60:  39%|███▉      | 63/162 [03:42<05:46,  3.50s/it]"
     ]
    },
    {
     "name": "stderr",
     "output_type": "stream",
     "text": [
      "\r",
      "Epoch 1/60:  40%|███▉      | 64/162 [03:46<05:41,  3.48s/it]"
     ]
    },
    {
     "name": "stderr",
     "output_type": "stream",
     "text": [
      "\r",
      "Epoch 1/60:  40%|████      | 65/162 [03:49<05:38,  3.49s/it]"
     ]
    },
    {
     "name": "stderr",
     "output_type": "stream",
     "text": [
      "\r",
      "Epoch 1/60:  41%|████      | 66/162 [03:53<05:34,  3.49s/it]"
     ]
    },
    {
     "name": "stderr",
     "output_type": "stream",
     "text": [
      "\r",
      "Epoch 1/60:  41%|████▏     | 67/162 [03:56<05:29,  3.47s/it]"
     ]
    },
    {
     "name": "stderr",
     "output_type": "stream",
     "text": [
      "\r",
      "Epoch 1/60:  42%|████▏     | 68/162 [04:00<05:34,  3.56s/it]"
     ]
    },
    {
     "name": "stderr",
     "output_type": "stream",
     "text": [
      "\r",
      "Epoch 1/60:  43%|████▎     | 69/162 [04:03<05:26,  3.52s/it]"
     ]
    },
    {
     "name": "stderr",
     "output_type": "stream",
     "text": [
      "\r",
      "Epoch 1/60:  43%|████▎     | 70/162 [04:07<05:21,  3.49s/it]"
     ]
    },
    {
     "name": "stderr",
     "output_type": "stream",
     "text": [
      "\r",
      "Epoch 1/60:  44%|████▍     | 71/162 [04:10<05:16,  3.48s/it]"
     ]
    },
    {
     "name": "stderr",
     "output_type": "stream",
     "text": [
      "\r",
      "Epoch 1/60:  44%|████▍     | 72/162 [04:14<05:11,  3.46s/it]"
     ]
    },
    {
     "name": "stderr",
     "output_type": "stream",
     "text": [
      "\r",
      "Epoch 1/60:  45%|████▌     | 73/162 [04:17<05:11,  3.49s/it]"
     ]
    },
    {
     "name": "stderr",
     "output_type": "stream",
     "text": [
      "\r",
      "Epoch 1/60:  46%|████▌     | 74/162 [04:21<05:07,  3.49s/it]"
     ]
    },
    {
     "name": "stderr",
     "output_type": "stream",
     "text": [
      "\r",
      "Epoch 1/60:  46%|████▋     | 75/162 [04:24<05:02,  3.48s/it]"
     ]
    },
    {
     "name": "stderr",
     "output_type": "stream",
     "text": [
      "\r",
      "Epoch 1/60:  47%|████▋     | 76/162 [04:28<05:04,  3.54s/it]"
     ]
    },
    {
     "name": "stderr",
     "output_type": "stream",
     "text": [
      "\r",
      "Epoch 1/60:  48%|████▊     | 77/162 [04:32<05:04,  3.58s/it]"
     ]
    },
    {
     "name": "stderr",
     "output_type": "stream",
     "text": [
      "\r",
      "Epoch 1/60:  48%|████▊     | 78/162 [04:35<04:58,  3.55s/it]"
     ]
    },
    {
     "name": "stderr",
     "output_type": "stream",
     "text": [
      "\r",
      "Epoch 1/60:  49%|████▉     | 79/162 [04:39<04:52,  3.52s/it]"
     ]
    },
    {
     "name": "stderr",
     "output_type": "stream",
     "text": [
      "\r",
      "Epoch 1/60:  49%|████▉     | 80/162 [04:42<04:47,  3.51s/it]"
     ]
    },
    {
     "name": "stderr",
     "output_type": "stream",
     "text": [
      "\r",
      "Epoch 1/60:  50%|█████     | 81/162 [04:46<04:44,  3.52s/it]"
     ]
    },
    {
     "name": "stderr",
     "output_type": "stream",
     "text": [
      "\r",
      "Epoch 1/60:  51%|█████     | 82/162 [04:49<04:39,  3.50s/it]"
     ]
    },
    {
     "name": "stderr",
     "output_type": "stream",
     "text": [
      "\r",
      "Epoch 1/60:  51%|█████     | 83/162 [04:53<04:36,  3.50s/it]"
     ]
    },
    {
     "name": "stderr",
     "output_type": "stream",
     "text": [
      "\r",
      "Epoch 1/60:  52%|█████▏    | 84/162 [04:56<04:33,  3.50s/it]"
     ]
    },
    {
     "name": "stderr",
     "output_type": "stream",
     "text": [
      "\r",
      "Epoch 1/60:  52%|█████▏    | 85/162 [05:00<04:29,  3.51s/it]"
     ]
    },
    {
     "name": "stderr",
     "output_type": "stream",
     "text": [
      "\r",
      "Epoch 1/60:  53%|█████▎    | 86/162 [05:03<04:34,  3.62s/it]"
     ]
    },
    {
     "name": "stderr",
     "output_type": "stream",
     "text": [
      "\r",
      "Epoch 1/60:  54%|█████▎    | 87/162 [05:07<04:28,  3.58s/it]"
     ]
    },
    {
     "name": "stderr",
     "output_type": "stream",
     "text": [
      "\r",
      "Epoch 1/60:  54%|█████▍    | 88/162 [05:10<04:21,  3.53s/it]"
     ]
    },
    {
     "name": "stderr",
     "output_type": "stream",
     "text": [
      "\r",
      "Epoch 1/60:  55%|█████▍    | 89/162 [05:14<04:16,  3.52s/it]"
     ]
    },
    {
     "name": "stderr",
     "output_type": "stream",
     "text": [
      "\r",
      "Epoch 1/60:  56%|█████▌    | 90/162 [05:17<04:12,  3.51s/it]"
     ]
    },
    {
     "name": "stderr",
     "output_type": "stream",
     "text": [
      "\r",
      "Epoch 1/60:  56%|█████▌    | 91/162 [05:21<04:08,  3.50s/it]"
     ]
    },
    {
     "name": "stderr",
     "output_type": "stream",
     "text": [
      "\r",
      "Epoch 1/60:  57%|█████▋    | 92/162 [05:24<04:03,  3.48s/it]"
     ]
    },
    {
     "name": "stderr",
     "output_type": "stream",
     "text": [
      "\r",
      "Epoch 1/60:  57%|█████▋    | 93/162 [05:28<04:01,  3.49s/it]"
     ]
    },
    {
     "name": "stderr",
     "output_type": "stream",
     "text": [
      "\r",
      "Epoch 1/60:  58%|█████▊    | 94/162 [05:31<03:56,  3.49s/it]"
     ]
    },
    {
     "name": "stderr",
     "output_type": "stream",
     "text": [
      "\r",
      "Epoch 1/60:  59%|█████▊    | 95/162 [05:35<03:58,  3.56s/it]"
     ]
    },
    {
     "name": "stderr",
     "output_type": "stream",
     "text": [
      "\r",
      "Epoch 1/60:  59%|█████▉    | 96/162 [05:38<03:52,  3.52s/it]"
     ]
    },
    {
     "name": "stderr",
     "output_type": "stream",
     "text": [
      "\r",
      "Epoch 1/60:  60%|█████▉    | 97/162 [05:42<03:47,  3.50s/it]"
     ]
    },
    {
     "name": "stderr",
     "output_type": "stream",
     "text": [
      "\r",
      "Epoch 1/60:  60%|██████    | 98/162 [05:45<03:44,  3.51s/it]"
     ]
    },
    {
     "name": "stderr",
     "output_type": "stream",
     "text": [
      "\r",
      "Epoch 1/60:  61%|██████    | 99/162 [05:49<03:41,  3.52s/it]"
     ]
    },
    {
     "name": "stderr",
     "output_type": "stream",
     "text": [
      "\r",
      "Epoch 1/60:  62%|██████▏   | 100/162 [05:53<03:39,  3.54s/it]"
     ]
    },
    {
     "name": "stderr",
     "output_type": "stream",
     "text": [
      "\r",
      "Epoch 1/60:  62%|██████▏   | 101/162 [05:56<03:35,  3.54s/it]"
     ]
    },
    {
     "name": "stderr",
     "output_type": "stream",
     "text": [
      "\r",
      "Epoch 1/60:  63%|██████▎   | 102/162 [06:00<03:33,  3.56s/it]"
     ]
    },
    {
     "name": "stderr",
     "output_type": "stream",
     "text": [
      "\r",
      "Epoch 1/60:  64%|██████▎   | 103/162 [06:03<03:28,  3.54s/it]"
     ]
    },
    {
     "name": "stderr",
     "output_type": "stream",
     "text": [
      "\r",
      "Epoch 1/60:  64%|██████▍   | 104/162 [06:07<03:26,  3.56s/it]"
     ]
    },
    {
     "name": "stderr",
     "output_type": "stream",
     "text": [
      "\r",
      "Epoch 1/60:  65%|██████▍   | 105/162 [06:10<03:22,  3.56s/it]"
     ]
    },
    {
     "name": "stderr",
     "output_type": "stream",
     "text": [
      "\r",
      "Epoch 1/60:  65%|██████▌   | 106/162 [06:14<03:17,  3.52s/it]"
     ]
    },
    {
     "name": "stderr",
     "output_type": "stream",
     "text": [
      "\r",
      "Epoch 1/60:  66%|██████▌   | 107/162 [06:17<03:12,  3.49s/it]"
     ]
    },
    {
     "name": "stderr",
     "output_type": "stream",
     "text": [
      "\r",
      "Epoch 1/60:  67%|██████▋   | 108/162 [06:21<03:10,  3.52s/it]"
     ]
    },
    {
     "name": "stderr",
     "output_type": "stream",
     "text": [
      "\r",
      "Epoch 1/60:  67%|██████▋   | 109/162 [06:24<03:05,  3.51s/it]"
     ]
    },
    {
     "name": "stderr",
     "output_type": "stream",
     "text": [
      "\r",
      "Epoch 1/60:  68%|██████▊   | 110/162 [06:28<03:02,  3.50s/it]"
     ]
    },
    {
     "name": "stderr",
     "output_type": "stream",
     "text": [
      "\r",
      "Epoch 1/60:  69%|██████▊   | 111/162 [06:31<02:59,  3.51s/it]"
     ]
    },
    {
     "name": "stderr",
     "output_type": "stream",
     "text": [
      "\r",
      "Epoch 1/60:  69%|██████▉   | 112/162 [06:35<02:54,  3.49s/it]"
     ]
    },
    {
     "name": "stderr",
     "output_type": "stream",
     "text": [
      "\r",
      "Epoch 1/60:  70%|██████▉   | 113/162 [06:38<02:53,  3.54s/it]"
     ]
    },
    {
     "name": "stderr",
     "output_type": "stream",
     "text": [
      "\r",
      "Epoch 1/60:  70%|███████   | 114/162 [06:42<02:50,  3.55s/it]"
     ]
    },
    {
     "name": "stderr",
     "output_type": "stream",
     "text": [
      "\r",
      "Epoch 1/60:  71%|███████   | 115/162 [06:46<02:48,  3.58s/it]"
     ]
    },
    {
     "name": "stderr",
     "output_type": "stream",
     "text": [
      "\r",
      "Epoch 1/60:  72%|███████▏  | 116/162 [06:49<02:43,  3.56s/it]"
     ]
    },
    {
     "name": "stderr",
     "output_type": "stream",
     "text": [
      "\r",
      "Epoch 1/60:  72%|███████▏  | 117/162 [06:53<02:38,  3.53s/it]"
     ]
    },
    {
     "name": "stderr",
     "output_type": "stream",
     "text": [
      "\r",
      "Epoch 1/60:  73%|███████▎  | 118/162 [06:56<02:35,  3.53s/it]"
     ]
    },
    {
     "name": "stderr",
     "output_type": "stream",
     "text": [
      "\r",
      "Epoch 1/60:  73%|███████▎  | 119/162 [07:00<02:32,  3.55s/it]"
     ]
    },
    {
     "name": "stderr",
     "output_type": "stream",
     "text": [
      "\r",
      "Epoch 1/60:  74%|███████▍  | 120/162 [07:03<02:28,  3.54s/it]"
     ]
    },
    {
     "name": "stderr",
     "output_type": "stream",
     "text": [
      "\r",
      "Epoch 1/60:  75%|███████▍  | 121/162 [07:07<02:24,  3.53s/it]"
     ]
    },
    {
     "name": "stderr",
     "output_type": "stream",
     "text": [
      "\r",
      "Epoch 1/60:  75%|███████▌  | 122/162 [07:10<02:22,  3.56s/it]"
     ]
    },
    {
     "name": "stderr",
     "output_type": "stream",
     "text": [
      "\r",
      "Epoch 1/60:  76%|███████▌  | 123/162 [07:14<02:17,  3.53s/it]"
     ]
    },
    {
     "name": "stderr",
     "output_type": "stream",
     "text": [
      "\r",
      "Epoch 1/60:  77%|███████▋  | 124/162 [07:17<02:13,  3.50s/it]"
     ]
    },
    {
     "name": "stderr",
     "output_type": "stream",
     "text": [
      "\r",
      "Epoch 1/60:  77%|███████▋  | 125/162 [07:21<02:11,  3.54s/it]"
     ]
    },
    {
     "name": "stderr",
     "output_type": "stream",
     "text": [
      "\r",
      "Epoch 1/60:  78%|███████▊  | 126/162 [07:24<02:07,  3.55s/it]"
     ]
    },
    {
     "name": "stderr",
     "output_type": "stream",
     "text": [
      "\r",
      "Epoch 1/60:  78%|███████▊  | 127/162 [07:28<02:03,  3.53s/it]"
     ]
    },
    {
     "name": "stderr",
     "output_type": "stream",
     "text": [
      "\r",
      "Epoch 1/60:  79%|███████▉  | 128/162 [07:31<01:59,  3.52s/it]"
     ]
    },
    {
     "name": "stderr",
     "output_type": "stream",
     "text": [
      "\r",
      "Epoch 1/60:  80%|███████▉  | 129/162 [07:35<01:55,  3.51s/it]"
     ]
    },
    {
     "name": "stderr",
     "output_type": "stream",
     "text": [
      "\r",
      "Epoch 1/60:  80%|████████  | 130/162 [07:38<01:52,  3.50s/it]"
     ]
    },
    {
     "name": "stderr",
     "output_type": "stream",
     "text": [
      "\r",
      "Epoch 1/60:  81%|████████  | 131/162 [07:42<01:48,  3.50s/it]"
     ]
    },
    {
     "name": "stderr",
     "output_type": "stream",
     "text": [
      "\r",
      "Epoch 1/60:  81%|████████▏ | 132/162 [07:45<01:44,  3.48s/it]"
     ]
    },
    {
     "name": "stderr",
     "output_type": "stream",
     "text": [
      "\r",
      "Epoch 1/60:  82%|████████▏ | 133/162 [07:49<01:42,  3.55s/it]"
     ]
    },
    {
     "name": "stderr",
     "output_type": "stream",
     "text": [
      "\r",
      "Epoch 1/60:  83%|████████▎ | 134/162 [07:53<01:39,  3.57s/it]"
     ]
    },
    {
     "name": "stderr",
     "output_type": "stream",
     "text": [
      "\r",
      "Epoch 1/60:  83%|████████▎ | 135/162 [07:56<01:35,  3.54s/it]"
     ]
    },
    {
     "name": "stderr",
     "output_type": "stream",
     "text": [
      "\r",
      "Epoch 1/60:  84%|████████▍ | 136/162 [08:00<01:32,  3.55s/it]"
     ]
    },
    {
     "name": "stderr",
     "output_type": "stream",
     "text": [
      "\r",
      "Epoch 1/60:  85%|████████▍ | 137/162 [08:03<01:28,  3.55s/it]"
     ]
    },
    {
     "name": "stderr",
     "output_type": "stream",
     "text": [
      "\r",
      "Epoch 1/60:  85%|████████▌ | 138/162 [08:07<01:24,  3.53s/it]"
     ]
    },
    {
     "name": "stderr",
     "output_type": "stream",
     "text": [
      "\r",
      "Epoch 1/60:  86%|████████▌ | 139/162 [08:10<01:21,  3.55s/it]"
     ]
    },
    {
     "name": "stderr",
     "output_type": "stream",
     "text": [
      "\r",
      "Epoch 1/60:  86%|████████▋ | 140/162 [08:14<01:19,  3.59s/it]"
     ]
    },
    {
     "name": "stderr",
     "output_type": "stream",
     "text": [
      "\r",
      "Epoch 1/60:  87%|████████▋ | 141/162 [08:17<01:14,  3.56s/it]"
     ]
    },
    {
     "name": "stderr",
     "output_type": "stream",
     "text": [
      "\r",
      "Epoch 1/60:  88%|████████▊ | 142/162 [08:21<01:11,  3.56s/it]"
     ]
    },
    {
     "name": "stderr",
     "output_type": "stream",
     "text": [
      "\r",
      "Epoch 1/60:  88%|████████▊ | 143/162 [08:25<01:07,  3.55s/it]"
     ]
    },
    {
     "name": "stderr",
     "output_type": "stream",
     "text": [
      "\r",
      "Epoch 1/60:  89%|████████▉ | 144/162 [08:28<01:04,  3.58s/it]"
     ]
    },
    {
     "name": "stderr",
     "output_type": "stream",
     "text": [
      "\r",
      "Epoch 1/60:  90%|████████▉ | 145/162 [08:32<01:01,  3.61s/it]"
     ]
    },
    {
     "name": "stderr",
     "output_type": "stream",
     "text": [
      "\r",
      "Epoch 1/60:  90%|█████████ | 146/162 [08:35<00:57,  3.57s/it]"
     ]
    },
    {
     "name": "stderr",
     "output_type": "stream",
     "text": [
      "\r",
      "Epoch 1/60:  91%|█████████ | 147/162 [08:39<00:53,  3.54s/it]"
     ]
    },
    {
     "name": "stderr",
     "output_type": "stream",
     "text": [
      "\r",
      "Epoch 1/60:  91%|█████████▏| 148/162 [08:43<00:50,  3.63s/it]"
     ]
    },
    {
     "name": "stderr",
     "output_type": "stream",
     "text": [
      "\r",
      "Epoch 1/60:  92%|█████████▏| 149/162 [08:46<00:47,  3.62s/it]"
     ]
    },
    {
     "name": "stderr",
     "output_type": "stream",
     "text": [
      "\r",
      "Epoch 1/60:  93%|█████████▎| 150/162 [08:50<00:43,  3.61s/it]"
     ]
    },
    {
     "name": "stderr",
     "output_type": "stream",
     "text": [
      "\r",
      "Epoch 1/60:  93%|█████████▎| 151/162 [08:53<00:39,  3.59s/it]"
     ]
    },
    {
     "name": "stderr",
     "output_type": "stream",
     "text": [
      "\r",
      "Epoch 1/60:  94%|█████████▍| 152/162 [08:57<00:35,  3.56s/it]"
     ]
    },
    {
     "name": "stderr",
     "output_type": "stream",
     "text": [
      "\r",
      "Epoch 1/60:  94%|█████████▍| 153/162 [09:00<00:31,  3.54s/it]"
     ]
    },
    {
     "name": "stderr",
     "output_type": "stream",
     "text": [
      "\r",
      "Epoch 1/60:  95%|█████████▌| 154/162 [09:04<00:28,  3.55s/it]"
     ]
    },
    {
     "name": "stderr",
     "output_type": "stream",
     "text": [
      "\r",
      "Epoch 1/60:  96%|█████████▌| 155/162 [09:08<00:24,  3.55s/it]"
     ]
    },
    {
     "name": "stderr",
     "output_type": "stream",
     "text": [
      "\r",
      "Epoch 1/60:  96%|█████████▋| 156/162 [09:11<00:21,  3.53s/it]"
     ]
    },
    {
     "name": "stderr",
     "output_type": "stream",
     "text": [
      "\r",
      "Epoch 1/60:  97%|█████████▋| 157/162 [09:15<00:17,  3.60s/it]"
     ]
    },
    {
     "name": "stderr",
     "output_type": "stream",
     "text": [
      "\r",
      "Epoch 1/60:  98%|█████████▊| 158/162 [09:18<00:14,  3.62s/it]"
     ]
    },
    {
     "name": "stderr",
     "output_type": "stream",
     "text": [
      "\r",
      "Epoch 1/60:  98%|█████████▊| 159/162 [09:22<00:10,  3.64s/it]"
     ]
    },
    {
     "name": "stderr",
     "output_type": "stream",
     "text": [
      "\r",
      "Epoch 1/60:  99%|█████████▉| 160/162 [09:26<00:07,  3.65s/it]"
     ]
    },
    {
     "name": "stderr",
     "output_type": "stream",
     "text": [
      "\r",
      "Epoch 1/60:  99%|█████████▉| 161/162 [09:29<00:03,  3.63s/it]"
     ]
    },
    {
     "name": "stderr",
     "output_type": "stream",
     "text": [
      "\r",
      "Epoch 1/60: 100%|██████████| 162/162 [09:31<00:00,  2.93s/it]"
     ]
    },
    {
     "name": "stderr",
     "output_type": "stream",
     "text": [
      "\r",
      "Epoch 1/60: 100%|██████████| 162/162 [09:31<00:00,  3.53s/it]"
     ]
    },
    {
     "name": "stderr",
     "output_type": "stream",
     "text": [
      "\n"
     ]
    },
    {
     "name": "stdout",
     "output_type": "stream",
     "text": [
      "Epoch [1/60] Train Loss G: 26.3886, D: 0.4334 Val Loss: 27.8733, Val Accuracy: 0.5269\n"
     ]
    },
    {
     "name": "stderr",
     "output_type": "stream",
     "text": [
      "\r",
      "Epoch 2/60:   0%|          | 0/162 [00:00<?, ?it/s]"
     ]
    },
    {
     "name": "stderr",
     "output_type": "stream",
     "text": [
      "\r",
      "Epoch 2/60:   1%|          | 1/162 [00:03<09:22,  3.49s/it]"
     ]
    },
    {
     "name": "stderr",
     "output_type": "stream",
     "text": [
      "\r",
      "Epoch 2/60:   1%|          | 2/162 [00:06<09:15,  3.47s/it]"
     ]
    },
    {
     "name": "stderr",
     "output_type": "stream",
     "text": [
      "\r",
      "Epoch 2/60:   2%|▏         | 3/162 [00:10<09:08,  3.45s/it]"
     ]
    },
    {
     "name": "stderr",
     "output_type": "stream",
     "text": [
      "\r",
      "Epoch 2/60:   2%|▏         | 4/162 [00:13<09:05,  3.45s/it]"
     ]
    },
    {
     "name": "stderr",
     "output_type": "stream",
     "text": [
      "\r",
      "Epoch 2/60:   3%|▎         | 5/162 [00:17<09:03,  3.46s/it]"
     ]
    },
    {
     "name": "stderr",
     "output_type": "stream",
     "text": [
      "\r",
      "Epoch 2/60:   4%|▎         | 6/162 [00:20<08:58,  3.45s/it]"
     ]
    },
    {
     "name": "stderr",
     "output_type": "stream",
     "text": [
      "\r",
      "Epoch 2/60:   4%|▍         | 7/162 [00:24<09:09,  3.55s/it]"
     ]
    },
    {
     "name": "stderr",
     "output_type": "stream",
     "text": [
      "\r",
      "Epoch 2/60:   5%|▍         | 8/162 [00:27<09:00,  3.51s/it]"
     ]
    },
    {
     "name": "stderr",
     "output_type": "stream",
     "text": [
      "\r",
      "Epoch 2/60:   6%|▌         | 9/162 [00:31<08:53,  3.49s/it]"
     ]
    },
    {
     "name": "stderr",
     "output_type": "stream",
     "text": [
      "\r",
      "Epoch 2/60:   6%|▌         | 10/162 [00:34<08:50,  3.49s/it]"
     ]
    },
    {
     "name": "stderr",
     "output_type": "stream",
     "text": [
      "\r",
      "Epoch 2/60:   7%|▋         | 11/162 [00:38<08:44,  3.48s/it]"
     ]
    },
    {
     "name": "stderr",
     "output_type": "stream",
     "text": [
      "\r",
      "Epoch 2/60:   7%|▋         | 12/162 [00:41<08:40,  3.47s/it]"
     ]
    },
    {
     "name": "stderr",
     "output_type": "stream",
     "text": [
      "\r",
      "Epoch 2/60:   8%|▊         | 13/162 [00:45<08:35,  3.46s/it]"
     ]
    },
    {
     "name": "stderr",
     "output_type": "stream",
     "text": [
      "\r",
      "Epoch 2/60:   9%|▊         | 14/162 [00:48<08:30,  3.45s/it]"
     ]
    },
    {
     "name": "stderr",
     "output_type": "stream",
     "text": [
      "\r",
      "Epoch 2/60:   9%|▉         | 15/162 [00:52<08:26,  3.45s/it]"
     ]
    },
    {
     "name": "stderr",
     "output_type": "stream",
     "text": [
      "\r",
      "Epoch 2/60:  10%|▉         | 16/162 [00:55<08:30,  3.50s/it]"
     ]
    },
    {
     "name": "stderr",
     "output_type": "stream",
     "text": [
      "\r",
      "Epoch 2/60:  10%|█         | 17/162 [00:59<08:26,  3.49s/it]"
     ]
    },
    {
     "name": "stderr",
     "output_type": "stream",
     "text": [
      "\r",
      "Epoch 2/60:  11%|█         | 18/162 [01:02<08:20,  3.47s/it]"
     ]
    },
    {
     "name": "stderr",
     "output_type": "stream",
     "text": [
      "\r",
      "Epoch 2/60:  12%|█▏        | 19/162 [01:06<08:19,  3.49s/it]"
     ]
    },
    {
     "name": "stderr",
     "output_type": "stream",
     "text": [
      "\r",
      "Epoch 2/60:  12%|█▏        | 20/162 [01:09<08:13,  3.48s/it]"
     ]
    },
    {
     "name": "stderr",
     "output_type": "stream",
     "text": [
      "\r",
      "Epoch 2/60:  13%|█▎        | 21/162 [01:12<08:08,  3.46s/it]"
     ]
    }
   ],
   "source": [
    "# 6. Training Loop with Validation and Checkpointing\n",
    "\n",
    "for epoch in range(start_epoch, num_epochs):\n",
    "    generator.train()\n",
    "    discriminator.train()\n",
    "    epoch_G_loss = 0\n",
    "    epoch_D_loss = 0\n",
    "\n",
    "    for i, batch in enumerate(tqdm(train_loader, desc=f\"Epoch {epoch}/{num_epochs}\")):\n",
    "        # Set model input\n",
    "        sketches = batch['sketch'].to(device)\n",
    "        faces = batch['face'].to(device)\n",
    "\n",
    "        # Adversarial ground truths\n",
    "        valid = torch.ones((sketches.size(0), 1, 30, 30), requires_grad=False).to(device)\n",
    "        fake = torch.zeros((sketches.size(0), 1, 30, 30), requires_grad=False).to(device)\n",
    "\n",
    "        ## ---------------------\n",
    "        ##  Train Generator\n",
    "        ## ---------------------\n",
    "        optimizer_G.zero_grad()\n",
    "\n",
    "        # Generate a batch of images\n",
    "        fake_faces = generator(sketches)\n",
    "\n",
    "        # Adversarial loss\n",
    "        pred_fake = discriminator(fake_faces, sketches)\n",
    "        loss_GAN = criterion_GAN(pred_fake, valid)\n",
    "\n",
    "        # L1 loss\n",
    "        loss_L1 = criterion_L1(fake_faces, faces) * lambda_L1\n",
    "\n",
    "        # Total generator loss\n",
    "        if use_perceptual_loss:\n",
    "            loss_perceptual = compute_perceptual_loss(fake_faces, faces) * lambda_perceptual\n",
    "            loss_G = loss_GAN + loss_L1 + loss_perceptual\n",
    "        else:\n",
    "            loss_G = loss_GAN + loss_L1\n",
    "\n",
    "        loss_G.backward()\n",
    "        optimizer_G.step()\n",
    "\n",
    "        ## ---------------------\n",
    "        ##  Train Discriminator\n",
    "        ## ---------------------\n",
    "        optimizer_D.zero_grad()\n",
    "\n",
    "        # Real loss\n",
    "        pred_real = discriminator(faces, sketches)\n",
    "        loss_real = criterion_GAN(pred_real, valid)\n",
    "\n",
    "        # Fake loss\n",
    "        pred_fake = discriminator(fake_faces.detach(), sketches)\n",
    "        loss_fake = criterion_GAN(pred_fake, fake)\n",
    "\n",
    "        # Total discriminator loss\n",
    "        loss_D = (loss_real + loss_fake) * 0.5\n",
    "\n",
    "        loss_D.backward()\n",
    "        optimizer_D.step()\n",
    "\n",
    "        # Update epoch losses\n",
    "        epoch_G_loss += loss_G.item()\n",
    "        epoch_D_loss += loss_D.item()\n",
    "\n",
    "    # Average losses over epoch\n",
    "    avg_G_loss = epoch_G_loss / len(train_loader)\n",
    "    avg_D_loss = epoch_D_loss / len(train_loader)\n",
    "    G_losses.append(avg_G_loss)\n",
    "    D_losses.append(avg_D_loss)\n",
    "\n",
    "    \n",
    "    # ---------------------\n",
    "    #  Validation Phase\n",
    "    # ---------------------\n",
    "    generator.eval()\n",
    "    discriminator.eval()\n",
    "    val_loss = 0\n",
    "    correct = 0\n",
    "    total = 0\n",
    "    \n",
    "    with torch.no_grad():\n",
    "        for batch in val_loader:\n",
    "            sketches = batch['sketch'].to(device)\n",
    "            photos = batch['face'].to(device)\n",
    "\n",
    "            # Define 'valid' and 'fake' tensors for the current batch size\n",
    "            current_batch_size = sketches.size(0)\n",
    "            valid = torch.ones((current_batch_size, 1, 30, 30), requires_grad=False).to(device)\n",
    "            fake = torch.zeros((current_batch_size, 1, 30, 30), requires_grad=False).to(device)\n",
    "    \n",
    "            fake_photos = generator(sketches)\n",
    "    \n",
    "            # Validation loss\n",
    "            pred_fake = discriminator(fake_photos, sketches)\n",
    "            loss_GAN = criterion_GAN(pred_fake, valid)\n",
    "    \n",
    "            loss_L1 = criterion_L1(fake_photos, photos) * lambda_L1\n",
    "\n",
    "            if use_perceptual_loss:\n",
    "                loss_perceptual = compute_perceptual_loss(fake_photos, photos) * lambda_perceptual\n",
    "                loss_G = loss_GAN + loss_L1 + loss_perceptual\n",
    "            else:\n",
    "                loss_G = loss_GAN + loss_L1\n",
    "    \n",
    "            val_loss += loss_G.item()\n",
    "    \n",
    "            # Compute accuracy of discriminator on validation set\n",
    "            pred_real = discriminator(photos, sketches)\n",
    "            pred_fake = discriminator(fake_photos, sketches)\n",
    "    \n",
    "            real_labels = torch.ones_like(pred_real, device=device)\n",
    "            fake_labels = torch.zeros_like(pred_fake, device=device)\n",
    "    \n",
    "            # Combine predictions and labels\n",
    "            preds = torch.cat([pred_real, pred_fake], dim=0)\n",
    "            labels = torch.cat([real_labels, fake_labels], dim=0)\n",
    "    \n",
    "            # Compute accuracy\n",
    "            predicted = (torch.sigmoid(preds) > 0.5).float()\n",
    "            correct += (predicted == labels).sum().item()\n",
    "            total += labels.numel()\n",
    "\n",
    "\n",
    "    avg_val_loss = val_loss / len(val_loader)\n",
    "    val_losses.append(avg_val_loss)\n",
    "    val_accuracy = correct / total\n",
    "    val_accuracies.append(val_accuracy)\n",
    "\n",
    "    print(f\"Epoch [{epoch}/{num_epochs}] \"\n",
    "          f\"Train Loss G: {avg_G_loss:.4f}, D: {avg_D_loss:.4f} \"\n",
    "          f\"Val Loss: {avg_val_loss:.4f}, Val Accuracy: {val_accuracy:.4f}\")\n",
    "\n",
    "    # Save sample images every epoch\n",
    "    with torch.no_grad():\n",
    "        # Generate images using a fixed batch of validation sketches\n",
    "        sample_batch = next(iter(val_loader))\n",
    "        sample_sketches = sample_batch['sketch'].to(device)\n",
    "        sample_faces = sample_batch['face'].to(device)\n",
    "        fake_sample_faces = generator(sample_sketches)\n",
    "\n",
    "        # Save images for visualization\n",
    "        save_image(fake_sample_faces.data[:25], f\"{image_dir}/{epoch}_fake.png\", nrow=5, normalize=True)\n",
    "        save_image(sample_faces.data[:25], f\"{image_dir}/{epoch}_real.png\", nrow=5, normalize=True)\n",
    "        save_image(sample_sketches.data[:25], f\"{image_dir}/{epoch}_sketch.png\", nrow=5, normalize=True)\n",
    "\n",
    "    checkpoint_path = os.path.join(checkpoint_dir, \"latest_checkpoint.pth\")\n",
    "    torch.save({\n",
    "        'epoch': epoch,\n",
    "        'generator_state_dict': generator.state_dict(),\n",
    "        'discriminator_state_dict': discriminator.state_dict(),\n",
    "        'optimizer_G_state_dict': optimizer_G.state_dict(),\n",
    "        'optimizer_D_state_dict': optimizer_D.state_dict(),\n",
    "        'G_losses': G_losses,\n",
    "        'D_losses': D_losses,\n",
    "        'val_losses': val_losses,\n",
    "        'val_accuracies': val_accuracies\n",
    "    }, checkpoint_path)\n",
    "\n",
    "# 7. Tracking and Saving Losses\n",
    "\n",
    "# After training is complete, plot the losses\n",
    "plt.figure(figsize=(10,5))\n",
    "plt.title(\"Generator and Discriminator Loss During Training\")\n",
    "plt.plot(G_losses, label=\"G_loss\")\n",
    "plt.plot(D_losses, label=\"D_loss\")\n",
    "plt.xlabel(\"Epochs\")\n",
    "plt.ylabel(\"Loss\")\n",
    "plt.legend()\n",
    "plt.savefig('train_loss_plot.png')\n",
    "plt.show()\n",
    "\n",
    "plt.figure(figsize=(10,5))\n",
    "plt.title(\"Validation Loss During Training\")\n",
    "plt.plot(val_losses, label=\"Val_loss\")\n",
    "plt.xlabel(\"Epochs\")\n",
    "plt.ylabel(\"Loss\")\n",
    "plt.legend()\n",
    "plt.savefig('val_loss_plot.png')\n",
    "plt.show()\n",
    "\n",
    "plt.figure(figsize=(10,5))\n",
    "plt.title(\"Validation Accuracy During Training\")\n",
    "plt.plot(val_accuracies, label=\"Val_accuracy\")\n",
    "plt.xlabel(\"Epochs\")\n",
    "plt.ylabel(\"Accuracy\")\n",
    "plt.legend()\n",
    "plt.savefig('val_accuracy_plot.png')\n",
    "plt.show()\n",
    "\n"
   ]
  },
  {
   "cell_type": "code",
   "execution_count": null,
   "id": "53798ecf",
   "metadata": {
    "papermill": {
     "duration": null,
     "end_time": null,
     "exception": null,
     "start_time": null,
     "status": "pending"
    },
    "tags": []
   },
   "outputs": [],
   "source": []
  }
 ],
 "metadata": {
  "kaggle": {
   "accelerator": "gpu",
   "dataSources": [
    {
     "datasetId": 2151228,
     "sourceId": 3724153,
     "sourceType": "datasetVersion"
    }
   ],
   "dockerImageVersionId": 30787,
   "isGpuEnabled": true,
   "isInternetEnabled": true,
   "language": "python",
   "sourceType": "notebook"
  },
  "kernelspec": {
   "display_name": "Python 3",
   "language": "python",
   "name": "python3"
  },
  "language_info": {
   "codemirror_mode": {
    "name": "ipython",
    "version": 3
   },
   "file_extension": ".py",
   "mimetype": "text/x-python",
   "name": "python",
   "nbconvert_exporter": "python",
   "pygments_lexer": "ipython3",
   "version": "3.10.14"
  },
  "papermill": {
   "default_parameters": {},
   "duration": null,
   "end_time": null,
   "environment_variables": {},
   "exception": null,
   "input_path": "__notebook__.ipynb",
   "output_path": "__notebook__.ipynb",
   "parameters": {},
   "start_time": "2024-10-23T05:32:37.404454",
   "version": "2.6.0"
  }
 },
 "nbformat": 4,
 "nbformat_minor": 5
}